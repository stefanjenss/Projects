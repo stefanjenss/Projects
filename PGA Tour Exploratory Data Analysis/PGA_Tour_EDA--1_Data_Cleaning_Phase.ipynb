{
 "cells": [
  {
   "cell_type": "markdown",
   "metadata": {},
   "source": [
    "# <font color = 'green'> Data Preprocessing for PGA Tour Exploratory Data Analysis</font>\n",
    "\n",
    "**Author: Stefan Jenss**"
   ]
  },
  {
   "cell_type": "markdown",
   "metadata": {},
   "source": [
    "## <font color = green><u>Phase 1. Read in the dataset and all necessary libraries into the environment</u></font>"
   ]
  },
  {
   "cell_type": "code",
   "execution_count": 1,
   "metadata": {},
   "outputs": [],
   "source": [
    "\"\"\"Import necessary libraries and set up the environment\"\"\"\n",
    "\n",
    "from IPython.core.interactiveshell import InteractiveShell\n",
    "InteractiveShell.ast_node_interactivity = \"all\"\n",
    "\n",
    "import pandas as pd\n",
    "import numpy as np\n",
    "\n",
    "import seaborn as sns\n",
    "import matplotlib.pyplot as plt\n",
    "import plotly.express as px\n",
    "\n",
    "%matplotlib inline"
   ]
  },
  {
   "cell_type": "code",
   "execution_count": 2,
   "metadata": {},
   "outputs": [
    {
     "data": {
      "text/plain": [
       "'Import the PGA Tour data'"
      ]
     },
     "execution_count": 2,
     "metadata": {},
     "output_type": "execute_result"
    }
   ],
   "source": [
    "\"\"\"Import the PGA Tour data\"\"\"\n",
    "\n",
    "pga_tour_data = pd.read_csv('Data_Files/PGA_Tour_Raw_Data.csv')"
   ]
  },
  {
   "cell_type": "markdown",
   "metadata": {},
   "source": [
    "----\n",
    "\n",
    "<font color = green><h2><u>\n",
    "Phase 2. Describe the population and key features of the dataset\n",
    "</u></h2></font>\n",
    "\n",
    "* Use `.shape` to determine the size of the dataset (# of rows and columns)\n",
    "* Use `.head()`, and `tail()` to view a preview of the dataset\n",
    "* Use `.info()` to evaluate the variable type of the different variable and to identify varibales with potential `Null` values.\n",
    "* Use `.describe()` to get summary data from the quantitative variables.\n",
    "* Use `.unique()` to evaluate the number of unique players, tournaments, and courses included in this dataset."
   ]
  },
  {
   "cell_type": "code",
   "execution_count": 3,
   "metadata": {},
   "outputs": [
    {
     "data": {
      "text/plain": [
       "(36864, 37)"
      ]
     },
     "execution_count": 3,
     "metadata": {},
     "output_type": "execute_result"
    },
    {
     "data": {
      "text/html": [
       "<div>\n",
       "<style scoped>\n",
       "    .dataframe tbody tr th:only-of-type {\n",
       "        vertical-align: middle;\n",
       "    }\n",
       "\n",
       "    .dataframe tbody tr th {\n",
       "        vertical-align: top;\n",
       "    }\n",
       "\n",
       "    .dataframe thead th {\n",
       "        text-align: right;\n",
       "    }\n",
       "</style>\n",
       "<table border=\"1\" class=\"dataframe\">\n",
       "  <thead>\n",
       "    <tr style=\"text-align: right;\">\n",
       "      <th></th>\n",
       "      <th>Player_initial_last</th>\n",
       "      <th>tournament id</th>\n",
       "      <th>player id</th>\n",
       "      <th>hole_par</th>\n",
       "      <th>strokes</th>\n",
       "      <th>hole_DKP</th>\n",
       "      <th>hole_FDP</th>\n",
       "      <th>hole_SDP</th>\n",
       "      <th>streak_DKP</th>\n",
       "      <th>streak_FDP</th>\n",
       "      <th>...</th>\n",
       "      <th>purse</th>\n",
       "      <th>season</th>\n",
       "      <th>no_cut</th>\n",
       "      <th>Finish</th>\n",
       "      <th>sg_putt</th>\n",
       "      <th>sg_arg</th>\n",
       "      <th>sg_app</th>\n",
       "      <th>sg_ott</th>\n",
       "      <th>sg_t2g</th>\n",
       "      <th>sg_total</th>\n",
       "    </tr>\n",
       "  </thead>\n",
       "  <tbody>\n",
       "    <tr>\n",
       "      <th>0</th>\n",
       "      <td>A. Ancer</td>\n",
       "      <td>401353224</td>\n",
       "      <td>9261</td>\n",
       "      <td>288</td>\n",
       "      <td>289</td>\n",
       "      <td>60.0</td>\n",
       "      <td>51.1</td>\n",
       "      <td>56</td>\n",
       "      <td>3</td>\n",
       "      <td>7.6</td>\n",
       "      <td>...</td>\n",
       "      <td>12.0</td>\n",
       "      <td>2022</td>\n",
       "      <td>0</td>\n",
       "      <td>T32</td>\n",
       "      <td>0.20</td>\n",
       "      <td>-0.13</td>\n",
       "      <td>-0.08</td>\n",
       "      <td>0.86</td>\n",
       "      <td>0.65</td>\n",
       "      <td>0.85</td>\n",
       "    </tr>\n",
       "    <tr>\n",
       "      <th>1</th>\n",
       "      <td>A. Hadwin</td>\n",
       "      <td>401353224</td>\n",
       "      <td>5548</td>\n",
       "      <td>288</td>\n",
       "      <td>286</td>\n",
       "      <td>72.5</td>\n",
       "      <td>61.5</td>\n",
       "      <td>61</td>\n",
       "      <td>8</td>\n",
       "      <td>13.0</td>\n",
       "      <td>...</td>\n",
       "      <td>12.0</td>\n",
       "      <td>2022</td>\n",
       "      <td>0</td>\n",
       "      <td>T18</td>\n",
       "      <td>0.36</td>\n",
       "      <td>0.75</td>\n",
       "      <td>0.31</td>\n",
       "      <td>0.18</td>\n",
       "      <td>1.24</td>\n",
       "      <td>1.60</td>\n",
       "    </tr>\n",
       "    <tr>\n",
       "      <th>2</th>\n",
       "      <td>A. Lahiri</td>\n",
       "      <td>401353224</td>\n",
       "      <td>4989</td>\n",
       "      <td>144</td>\n",
       "      <td>147</td>\n",
       "      <td>21.5</td>\n",
       "      <td>17.4</td>\n",
       "      <td>27</td>\n",
       "      <td>0</td>\n",
       "      <td>0.0</td>\n",
       "      <td>...</td>\n",
       "      <td>12.0</td>\n",
       "      <td>2022</td>\n",
       "      <td>0</td>\n",
       "      <td>CUT</td>\n",
       "      <td>-0.56</td>\n",
       "      <td>0.74</td>\n",
       "      <td>-1.09</td>\n",
       "      <td>0.37</td>\n",
       "      <td>0.02</td>\n",
       "      <td>-0.54</td>\n",
       "    </tr>\n",
       "    <tr>\n",
       "      <th>3</th>\n",
       "      <td>A. Long</td>\n",
       "      <td>401353224</td>\n",
       "      <td>6015</td>\n",
       "      <td>144</td>\n",
       "      <td>151</td>\n",
       "      <td>20.5</td>\n",
       "      <td>13.6</td>\n",
       "      <td>17</td>\n",
       "      <td>0</td>\n",
       "      <td>0.4</td>\n",
       "      <td>...</td>\n",
       "      <td>12.0</td>\n",
       "      <td>2022</td>\n",
       "      <td>0</td>\n",
       "      <td>CUT</td>\n",
       "      <td>-1.46</td>\n",
       "      <td>-1.86</td>\n",
       "      <td>-0.02</td>\n",
       "      <td>0.80</td>\n",
       "      <td>-1.08</td>\n",
       "      <td>-2.54</td>\n",
       "    </tr>\n",
       "    <tr>\n",
       "      <th>4</th>\n",
       "      <td>A. Noren</td>\n",
       "      <td>401353224</td>\n",
       "      <td>3832</td>\n",
       "      <td>144</td>\n",
       "      <td>148</td>\n",
       "      <td>23.5</td>\n",
       "      <td>18.1</td>\n",
       "      <td>23</td>\n",
       "      <td>0</td>\n",
       "      <td>1.2</td>\n",
       "      <td>...</td>\n",
       "      <td>12.0</td>\n",
       "      <td>2022</td>\n",
       "      <td>0</td>\n",
       "      <td>CUT</td>\n",
       "      <td>0.53</td>\n",
       "      <td>-0.36</td>\n",
       "      <td>-1.39</td>\n",
       "      <td>0.19</td>\n",
       "      <td>-1.56</td>\n",
       "      <td>-1.04</td>\n",
       "    </tr>\n",
       "  </tbody>\n",
       "</table>\n",
       "<p>5 rows × 37 columns</p>\n",
       "</div>"
      ],
      "text/plain": [
       "  Player_initial_last  tournament id  player id  hole_par  strokes  hole_DKP  \\\n",
       "0            A. Ancer      401353224       9261       288      289      60.0   \n",
       "1           A. Hadwin      401353224       5548       288      286      72.5   \n",
       "2           A. Lahiri      401353224       4989       144      147      21.5   \n",
       "3             A. Long      401353224       6015       144      151      20.5   \n",
       "4            A. Noren      401353224       3832       144      148      23.5   \n",
       "\n",
       "   hole_FDP  hole_SDP  streak_DKP  streak_FDP  ...  purse  season  no_cut  \\\n",
       "0      51.1        56           3         7.6  ...   12.0    2022       0   \n",
       "1      61.5        61           8        13.0  ...   12.0    2022       0   \n",
       "2      17.4        27           0         0.0  ...   12.0    2022       0   \n",
       "3      13.6        17           0         0.4  ...   12.0    2022       0   \n",
       "4      18.1        23           0         1.2  ...   12.0    2022       0   \n",
       "\n",
       "   Finish  sg_putt  sg_arg  sg_app  sg_ott  sg_t2g  sg_total  \n",
       "0     T32     0.20   -0.13   -0.08    0.86    0.65      0.85  \n",
       "1     T18     0.36    0.75    0.31    0.18    1.24      1.60  \n",
       "2     CUT    -0.56    0.74   -1.09    0.37    0.02     -0.54  \n",
       "3     CUT    -1.46   -1.86   -0.02    0.80   -1.08     -2.54  \n",
       "4     CUT     0.53   -0.36   -1.39    0.19   -1.56     -1.04  \n",
       "\n",
       "[5 rows x 37 columns]"
      ]
     },
     "execution_count": 3,
     "metadata": {},
     "output_type": "execute_result"
    },
    {
     "data": {
      "text/html": [
       "<div>\n",
       "<style scoped>\n",
       "    .dataframe tbody tr th:only-of-type {\n",
       "        vertical-align: middle;\n",
       "    }\n",
       "\n",
       "    .dataframe tbody tr th {\n",
       "        vertical-align: top;\n",
       "    }\n",
       "\n",
       "    .dataframe thead th {\n",
       "        text-align: right;\n",
       "    }\n",
       "</style>\n",
       "<table border=\"1\" class=\"dataframe\">\n",
       "  <thead>\n",
       "    <tr style=\"text-align: right;\">\n",
       "      <th></th>\n",
       "      <th>Player_initial_last</th>\n",
       "      <th>tournament id</th>\n",
       "      <th>player id</th>\n",
       "      <th>hole_par</th>\n",
       "      <th>strokes</th>\n",
       "      <th>hole_DKP</th>\n",
       "      <th>hole_FDP</th>\n",
       "      <th>hole_SDP</th>\n",
       "      <th>streak_DKP</th>\n",
       "      <th>streak_FDP</th>\n",
       "      <th>...</th>\n",
       "      <th>purse</th>\n",
       "      <th>season</th>\n",
       "      <th>no_cut</th>\n",
       "      <th>Finish</th>\n",
       "      <th>sg_putt</th>\n",
       "      <th>sg_arg</th>\n",
       "      <th>sg_app</th>\n",
       "      <th>sg_ott</th>\n",
       "      <th>sg_t2g</th>\n",
       "      <th>sg_total</th>\n",
       "    </tr>\n",
       "  </thead>\n",
       "  <tbody>\n",
       "    <tr>\n",
       "      <th>36859</th>\n",
       "      <td>V. Singh</td>\n",
       "      <td>2271</td>\n",
       "      <td>392</td>\n",
       "      <td>144</td>\n",
       "      <td>146</td>\n",
       "      <td>33.0</td>\n",
       "      <td>26.4</td>\n",
       "      <td>26</td>\n",
       "      <td>0</td>\n",
       "      <td>0.6</td>\n",
       "      <td>...</td>\n",
       "      <td>6.0</td>\n",
       "      <td>2015</td>\n",
       "      <td>0</td>\n",
       "      <td>NaN</td>\n",
       "      <td>NaN</td>\n",
       "      <td>NaN</td>\n",
       "      <td>NaN</td>\n",
       "      <td>NaN</td>\n",
       "      <td>NaN</td>\n",
       "      <td>NaN</td>\n",
       "    </tr>\n",
       "    <tr>\n",
       "      <th>36860</th>\n",
       "      <td>W. Kim</td>\n",
       "      <td>2271</td>\n",
       "      <td>7082</td>\n",
       "      <td>144</td>\n",
       "      <td>150</td>\n",
       "      <td>18.5</td>\n",
       "      <td>12.9</td>\n",
       "      <td>21</td>\n",
       "      <td>0</td>\n",
       "      <td>0.2</td>\n",
       "      <td>...</td>\n",
       "      <td>6.0</td>\n",
       "      <td>2015</td>\n",
       "      <td>0</td>\n",
       "      <td>NaN</td>\n",
       "      <td>NaN</td>\n",
       "      <td>NaN</td>\n",
       "      <td>NaN</td>\n",
       "      <td>NaN</td>\n",
       "      <td>NaN</td>\n",
       "      <td>NaN</td>\n",
       "    </tr>\n",
       "    <tr>\n",
       "      <th>36861</th>\n",
       "      <td>W. McGirt</td>\n",
       "      <td>2271</td>\n",
       "      <td>3532</td>\n",
       "      <td>216</td>\n",
       "      <td>215</td>\n",
       "      <td>44.5</td>\n",
       "      <td>40.6</td>\n",
       "      <td>45</td>\n",
       "      <td>0</td>\n",
       "      <td>6.2</td>\n",
       "      <td>...</td>\n",
       "      <td>6.0</td>\n",
       "      <td>2015</td>\n",
       "      <td>0</td>\n",
       "      <td>NaN</td>\n",
       "      <td>NaN</td>\n",
       "      <td>NaN</td>\n",
       "      <td>NaN</td>\n",
       "      <td>NaN</td>\n",
       "      <td>NaN</td>\n",
       "      <td>NaN</td>\n",
       "    </tr>\n",
       "    <tr>\n",
       "      <th>36862</th>\n",
       "      <td>Z. Blair</td>\n",
       "      <td>2271</td>\n",
       "      <td>9040</td>\n",
       "      <td>288</td>\n",
       "      <td>278</td>\n",
       "      <td>73.0</td>\n",
       "      <td>70.8</td>\n",
       "      <td>74</td>\n",
       "      <td>3</td>\n",
       "      <td>23.2</td>\n",
       "      <td>...</td>\n",
       "      <td>6.0</td>\n",
       "      <td>2015</td>\n",
       "      <td>0</td>\n",
       "      <td>NaN</td>\n",
       "      <td>NaN</td>\n",
       "      <td>NaN</td>\n",
       "      <td>NaN</td>\n",
       "      <td>NaN</td>\n",
       "      <td>NaN</td>\n",
       "      <td>NaN</td>\n",
       "    </tr>\n",
       "    <tr>\n",
       "      <th>36863</th>\n",
       "      <td>Z. Sucher</td>\n",
       "      <td>2271</td>\n",
       "      <td>4708</td>\n",
       "      <td>144</td>\n",
       "      <td>147</td>\n",
       "      <td>22.5</td>\n",
       "      <td>18.9</td>\n",
       "      <td>28</td>\n",
       "      <td>0</td>\n",
       "      <td>0.0</td>\n",
       "      <td>...</td>\n",
       "      <td>6.0</td>\n",
       "      <td>2015</td>\n",
       "      <td>0</td>\n",
       "      <td>NaN</td>\n",
       "      <td>NaN</td>\n",
       "      <td>NaN</td>\n",
       "      <td>NaN</td>\n",
       "      <td>NaN</td>\n",
       "      <td>NaN</td>\n",
       "      <td>NaN</td>\n",
       "    </tr>\n",
       "  </tbody>\n",
       "</table>\n",
       "<p>5 rows × 37 columns</p>\n",
       "</div>"
      ],
      "text/plain": [
       "      Player_initial_last  tournament id  player id  hole_par  strokes  \\\n",
       "36859            V. Singh           2271        392       144      146   \n",
       "36860              W. Kim           2271       7082       144      150   \n",
       "36861           W. McGirt           2271       3532       216      215   \n",
       "36862            Z. Blair           2271       9040       288      278   \n",
       "36863           Z. Sucher           2271       4708       144      147   \n",
       "\n",
       "       hole_DKP  hole_FDP  hole_SDP  streak_DKP  streak_FDP  ...  purse  \\\n",
       "36859      33.0      26.4        26           0         0.6  ...    6.0   \n",
       "36860      18.5      12.9        21           0         0.2  ...    6.0   \n",
       "36861      44.5      40.6        45           0         6.2  ...    6.0   \n",
       "36862      73.0      70.8        74           3        23.2  ...    6.0   \n",
       "36863      22.5      18.9        28           0         0.0  ...    6.0   \n",
       "\n",
       "       season  no_cut  Finish  sg_putt  sg_arg  sg_app  sg_ott  sg_t2g  \\\n",
       "36859    2015       0     NaN      NaN     NaN     NaN     NaN     NaN   \n",
       "36860    2015       0     NaN      NaN     NaN     NaN     NaN     NaN   \n",
       "36861    2015       0     NaN      NaN     NaN     NaN     NaN     NaN   \n",
       "36862    2015       0     NaN      NaN     NaN     NaN     NaN     NaN   \n",
       "36863    2015       0     NaN      NaN     NaN     NaN     NaN     NaN   \n",
       "\n",
       "       sg_total  \n",
       "36859       NaN  \n",
       "36860       NaN  \n",
       "36861       NaN  \n",
       "36862       NaN  \n",
       "36863       NaN  \n",
       "\n",
       "[5 rows x 37 columns]"
      ]
     },
     "execution_count": 3,
     "metadata": {},
     "output_type": "execute_result"
    },
    {
     "name": "stdout",
     "output_type": "stream",
     "text": [
      "<class 'pandas.core.frame.DataFrame'>\n",
      "RangeIndex: 36864 entries, 0 to 36863\n",
      "Data columns (total 37 columns):\n",
      " #   Column               Non-Null Count  Dtype  \n",
      "---  ------               --------------  -----  \n",
      " 0   Player_initial_last  36864 non-null  object \n",
      " 1   tournament id        36864 non-null  int64  \n",
      " 2   player id            36864 non-null  int64  \n",
      " 3   hole_par             36864 non-null  int64  \n",
      " 4   strokes              36864 non-null  int64  \n",
      " 5   hole_DKP             36864 non-null  float64\n",
      " 6   hole_FDP             36864 non-null  float64\n",
      " 7   hole_SDP             36864 non-null  int64  \n",
      " 8   streak_DKP           36864 non-null  int64  \n",
      " 9   streak_FDP           36864 non-null  float64\n",
      " 10  streak_SDP           36864 non-null  int64  \n",
      " 11  n_rounds             36864 non-null  int64  \n",
      " 12  made_cut             36864 non-null  int64  \n",
      " 13  pos                  21317 non-null  float64\n",
      " 14  finish_DKP           36864 non-null  int64  \n",
      " 15  finish_FDP           36864 non-null  int64  \n",
      " 16  finish_SDP           36864 non-null  int64  \n",
      " 17  total_DKP            36864 non-null  float64\n",
      " 18  total_FDP            36864 non-null  float64\n",
      " 19  total_SDP            36864 non-null  int64  \n",
      " 20  player               36864 non-null  object \n",
      " 21  Unnamed: 2           0 non-null      float64\n",
      " 22  Unnamed: 3           0 non-null      float64\n",
      " 23  Unnamed: 4           0 non-null      float64\n",
      " 24  tournament name      36864 non-null  object \n",
      " 25  course               36864 non-null  object \n",
      " 26  date                 36864 non-null  object \n",
      " 27  purse                36864 non-null  float64\n",
      " 28  season               36864 non-null  int64  \n",
      " 29  no_cut               36864 non-null  int64  \n",
      " 30  Finish               29181 non-null  object \n",
      " 31  sg_putt              29180 non-null  float64\n",
      " 32  sg_arg               29180 non-null  float64\n",
      " 33  sg_app               29180 non-null  float64\n",
      " 34  sg_ott               29180 non-null  float64\n",
      " 35  sg_t2g               29180 non-null  float64\n",
      " 36  sg_total             29181 non-null  float64\n",
      "dtypes: float64(16), int64(15), object(6)\n",
      "memory usage: 10.4+ MB\n"
     ]
    },
    {
     "data": {
      "text/html": [
       "<div>\n",
       "<style scoped>\n",
       "    .dataframe tbody tr th:only-of-type {\n",
       "        vertical-align: middle;\n",
       "    }\n",
       "\n",
       "    .dataframe tbody tr th {\n",
       "        vertical-align: top;\n",
       "    }\n",
       "\n",
       "    .dataframe thead th {\n",
       "        text-align: right;\n",
       "    }\n",
       "</style>\n",
       "<table border=\"1\" class=\"dataframe\">\n",
       "  <thead>\n",
       "    <tr style=\"text-align: right;\">\n",
       "      <th></th>\n",
       "      <th>tournament id</th>\n",
       "      <th>player id</th>\n",
       "      <th>hole_par</th>\n",
       "      <th>strokes</th>\n",
       "      <th>hole_DKP</th>\n",
       "      <th>hole_FDP</th>\n",
       "      <th>hole_SDP</th>\n",
       "      <th>streak_DKP</th>\n",
       "      <th>streak_FDP</th>\n",
       "      <th>streak_SDP</th>\n",
       "      <th>...</th>\n",
       "      <th>Unnamed: 4</th>\n",
       "      <th>purse</th>\n",
       "      <th>season</th>\n",
       "      <th>no_cut</th>\n",
       "      <th>sg_putt</th>\n",
       "      <th>sg_arg</th>\n",
       "      <th>sg_app</th>\n",
       "      <th>sg_ott</th>\n",
       "      <th>sg_t2g</th>\n",
       "      <th>sg_total</th>\n",
       "    </tr>\n",
       "  </thead>\n",
       "  <tbody>\n",
       "    <tr>\n",
       "      <th>count</th>\n",
       "      <td>3.686400e+04</td>\n",
       "      <td>3.686400e+04</td>\n",
       "      <td>36864.000000</td>\n",
       "      <td>36864.000000</td>\n",
       "      <td>36864.000000</td>\n",
       "      <td>36864.000000</td>\n",
       "      <td>36864.000000</td>\n",
       "      <td>36864.000000</td>\n",
       "      <td>36864.000000</td>\n",
       "      <td>36864.000000</td>\n",
       "      <td>...</td>\n",
       "      <td>0.0</td>\n",
       "      <td>36864.000000</td>\n",
       "      <td>36864.000000</td>\n",
       "      <td>36864.000000</td>\n",
       "      <td>29180.000000</td>\n",
       "      <td>29180.000000</td>\n",
       "      <td>29180.000000</td>\n",
       "      <td>29180.000000</td>\n",
       "      <td>29180.000000</td>\n",
       "      <td>29181.000000</td>\n",
       "    </tr>\n",
       "    <tr>\n",
       "      <th>mean</th>\n",
       "      <td>2.331807e+08</td>\n",
       "      <td>7.979041e+04</td>\n",
       "      <td>225.547065</td>\n",
       "      <td>224.114502</td>\n",
       "      <td>50.130249</td>\n",
       "      <td>44.375789</td>\n",
       "      <td>49.323703</td>\n",
       "      <td>1.764052</td>\n",
       "      <td>7.686844</td>\n",
       "      <td>1.683485</td>\n",
       "      <td>...</td>\n",
       "      <td>NaN</td>\n",
       "      <td>7.529612</td>\n",
       "      <td>2018.539686</td>\n",
       "      <td>0.065294</td>\n",
       "      <td>-0.121005</td>\n",
       "      <td>-0.040744</td>\n",
       "      <td>-0.101759</td>\n",
       "      <td>-0.045896</td>\n",
       "      <td>-0.188346</td>\n",
       "      <td>-0.305491</td>\n",
       "    </tr>\n",
       "    <tr>\n",
       "      <th>std</th>\n",
       "      <td>1.979221e+08</td>\n",
       "      <td>5.753816e+05</td>\n",
       "      <td>70.295590</td>\n",
       "      <td>66.789007</td>\n",
       "      <td>24.025854</td>\n",
       "      <td>24.153313</td>\n",
       "      <td>22.202915</td>\n",
       "      <td>2.846552</td>\n",
       "      <td>7.252924</td>\n",
       "      <td>2.668202</td>\n",
       "      <td>...</td>\n",
       "      <td>NaN</td>\n",
       "      <td>2.192712</td>\n",
       "      <td>2.213050</td>\n",
       "      <td>0.247047</td>\n",
       "      <td>1.119451</td>\n",
       "      <td>0.727315</td>\n",
       "      <td>1.119763</td>\n",
       "      <td>0.808139</td>\n",
       "      <td>1.640817</td>\n",
       "      <td>1.966669</td>\n",
       "    </tr>\n",
       "    <tr>\n",
       "      <th>min</th>\n",
       "      <td>2.230000e+03</td>\n",
       "      <td>5.000000e+00</td>\n",
       "      <td>70.000000</td>\n",
       "      <td>66.000000</td>\n",
       "      <td>-2.500000</td>\n",
       "      <td>-21.400000</td>\n",
       "      <td>-11.000000</td>\n",
       "      <td>0.000000</td>\n",
       "      <td>0.000000</td>\n",
       "      <td>0.000000</td>\n",
       "      <td>...</td>\n",
       "      <td>NaN</td>\n",
       "      <td>3.000000</td>\n",
       "      <td>2015.000000</td>\n",
       "      <td>0.000000</td>\n",
       "      <td>-5.990000</td>\n",
       "      <td>-6.430000</td>\n",
       "      <td>-9.250000</td>\n",
       "      <td>-7.740000</td>\n",
       "      <td>-13.950000</td>\n",
       "      <td>-13.670000</td>\n",
       "    </tr>\n",
       "    <tr>\n",
       "      <th>25%</th>\n",
       "      <td>2.696000e+03</td>\n",
       "      <td>1.170000e+03</td>\n",
       "      <td>143.000000</td>\n",
       "      <td>146.000000</td>\n",
       "      <td>27.000000</td>\n",
       "      <td>22.600000</td>\n",
       "      <td>28.000000</td>\n",
       "      <td>0.000000</td>\n",
       "      <td>0.800000</td>\n",
       "      <td>0.000000</td>\n",
       "      <td>...</td>\n",
       "      <td>NaN</td>\n",
       "      <td>6.400000</td>\n",
       "      <td>2017.000000</td>\n",
       "      <td>0.000000</td>\n",
       "      <td>-0.770000</td>\n",
       "      <td>-0.450000</td>\n",
       "      <td>-0.740000</td>\n",
       "      <td>-0.450000</td>\n",
       "      <td>-1.080000</td>\n",
       "      <td>-1.370000</td>\n",
       "    </tr>\n",
       "    <tr>\n",
       "      <th>50%</th>\n",
       "      <td>4.010565e+08</td>\n",
       "      <td>3.793000e+03</td>\n",
       "      <td>280.000000</td>\n",
       "      <td>272.000000</td>\n",
       "      <td>53.500000</td>\n",
       "      <td>46.100000</td>\n",
       "      <td>55.000000</td>\n",
       "      <td>0.000000</td>\n",
       "      <td>6.400000</td>\n",
       "      <td>0.000000</td>\n",
       "      <td>...</td>\n",
       "      <td>NaN</td>\n",
       "      <td>7.100000</td>\n",
       "      <td>2019.000000</td>\n",
       "      <td>0.000000</td>\n",
       "      <td>-0.040000</td>\n",
       "      <td>0.000000</td>\n",
       "      <td>0.000000</td>\n",
       "      <td>0.050000</td>\n",
       "      <td>-0.010000</td>\n",
       "      <td>-0.160000</td>\n",
       "    </tr>\n",
       "    <tr>\n",
       "      <th>75%</th>\n",
       "      <td>4.012195e+08</td>\n",
       "      <td>6.151000e+03</td>\n",
       "      <td>286.000000</td>\n",
       "      <td>281.000000</td>\n",
       "      <td>69.000000</td>\n",
       "      <td>64.000000</td>\n",
       "      <td>69.000000</td>\n",
       "      <td>3.000000</td>\n",
       "      <td>12.400000</td>\n",
       "      <td>3.000000</td>\n",
       "      <td>...</td>\n",
       "      <td>NaN</td>\n",
       "      <td>8.700000</td>\n",
       "      <td>2021.000000</td>\n",
       "      <td>0.000000</td>\n",
       "      <td>0.630000</td>\n",
       "      <td>0.420000</td>\n",
       "      <td>0.640000</td>\n",
       "      <td>0.480000</td>\n",
       "      <td>0.920000</td>\n",
       "      <td>1.060000</td>\n",
       "    </tr>\n",
       "    <tr>\n",
       "      <th>max</th>\n",
       "      <td>4.013669e+08</td>\n",
       "      <td>4.845309e+06</td>\n",
       "      <td>292.000000</td>\n",
       "      <td>325.000000</td>\n",
       "      <td>174.000000</td>\n",
       "      <td>134.700000</td>\n",
       "      <td>107.000000</td>\n",
       "      <td>23.000000</td>\n",
       "      <td>43.600000</td>\n",
       "      <td>22.000000</td>\n",
       "      <td>...</td>\n",
       "      <td>NaN</td>\n",
       "      <td>20.000000</td>\n",
       "      <td>2022.000000</td>\n",
       "      <td>1.000000</td>\n",
       "      <td>4.430000</td>\n",
       "      <td>3.170000</td>\n",
       "      <td>4.670000</td>\n",
       "      <td>2.770000</td>\n",
       "      <td>6.300000</td>\n",
       "      <td>8.520000</td>\n",
       "    </tr>\n",
       "  </tbody>\n",
       "</table>\n",
       "<p>8 rows × 31 columns</p>\n",
       "</div>"
      ],
      "text/plain": [
       "       tournament id     player id      hole_par       strokes      hole_DKP  \\\n",
       "count   3.686400e+04  3.686400e+04  36864.000000  36864.000000  36864.000000   \n",
       "mean    2.331807e+08  7.979041e+04    225.547065    224.114502     50.130249   \n",
       "std     1.979221e+08  5.753816e+05     70.295590     66.789007     24.025854   \n",
       "min     2.230000e+03  5.000000e+00     70.000000     66.000000     -2.500000   \n",
       "25%     2.696000e+03  1.170000e+03    143.000000    146.000000     27.000000   \n",
       "50%     4.010565e+08  3.793000e+03    280.000000    272.000000     53.500000   \n",
       "75%     4.012195e+08  6.151000e+03    286.000000    281.000000     69.000000   \n",
       "max     4.013669e+08  4.845309e+06    292.000000    325.000000    174.000000   \n",
       "\n",
       "           hole_FDP      hole_SDP    streak_DKP    streak_FDP    streak_SDP  \\\n",
       "count  36864.000000  36864.000000  36864.000000  36864.000000  36864.000000   \n",
       "mean      44.375789     49.323703      1.764052      7.686844      1.683485   \n",
       "std       24.153313     22.202915      2.846552      7.252924      2.668202   \n",
       "min      -21.400000    -11.000000      0.000000      0.000000      0.000000   \n",
       "25%       22.600000     28.000000      0.000000      0.800000      0.000000   \n",
       "50%       46.100000     55.000000      0.000000      6.400000      0.000000   \n",
       "75%       64.000000     69.000000      3.000000     12.400000      3.000000   \n",
       "max      134.700000    107.000000     23.000000     43.600000     22.000000   \n",
       "\n",
       "       ...  Unnamed: 4         purse        season        no_cut  \\\n",
       "count  ...         0.0  36864.000000  36864.000000  36864.000000   \n",
       "mean   ...         NaN      7.529612   2018.539686      0.065294   \n",
       "std    ...         NaN      2.192712      2.213050      0.247047   \n",
       "min    ...         NaN      3.000000   2015.000000      0.000000   \n",
       "25%    ...         NaN      6.400000   2017.000000      0.000000   \n",
       "50%    ...         NaN      7.100000   2019.000000      0.000000   \n",
       "75%    ...         NaN      8.700000   2021.000000      0.000000   \n",
       "max    ...         NaN     20.000000   2022.000000      1.000000   \n",
       "\n",
       "            sg_putt        sg_arg        sg_app        sg_ott        sg_t2g  \\\n",
       "count  29180.000000  29180.000000  29180.000000  29180.000000  29180.000000   \n",
       "mean      -0.121005     -0.040744     -0.101759     -0.045896     -0.188346   \n",
       "std        1.119451      0.727315      1.119763      0.808139      1.640817   \n",
       "min       -5.990000     -6.430000     -9.250000     -7.740000    -13.950000   \n",
       "25%       -0.770000     -0.450000     -0.740000     -0.450000     -1.080000   \n",
       "50%       -0.040000      0.000000      0.000000      0.050000     -0.010000   \n",
       "75%        0.630000      0.420000      0.640000      0.480000      0.920000   \n",
       "max        4.430000      3.170000      4.670000      2.770000      6.300000   \n",
       "\n",
       "           sg_total  \n",
       "count  29181.000000  \n",
       "mean      -0.305491  \n",
       "std        1.966669  \n",
       "min      -13.670000  \n",
       "25%       -1.370000  \n",
       "50%       -0.160000  \n",
       "75%        1.060000  \n",
       "max        8.520000  \n",
       "\n",
       "[8 rows x 31 columns]"
      ]
     },
     "execution_count": 3,
     "metadata": {},
     "output_type": "execute_result"
    },
    {
     "name": "stdout",
     "output_type": "stream",
     "text": [
      "Number of unique players:  499\n",
      "Number of unique tournaments:  333\n",
      "Number of unique courses:  92\n"
     ]
    }
   ],
   "source": [
    "# Check the shape of the data to see how many rows and columns there are\n",
    "pga_tour_data.shape\n",
    "\n",
    "# Use the .head() and .tail() methods to see the first and last 5 rows of the data\n",
    "pga_tour_data.head()\n",
    "pga_tour_data.tail()\n",
    "\n",
    "# Use the .info() method to see the data types of each column\n",
    "pga_tour_data.info()\n",
    "\n",
    "# Use the .describe method to see the summary statistics for each column\n",
    "pga_tour_data.describe()\n",
    "\n",
    "# Use the .unique() method to identify the number of unique players, tournaments, and courses included in the data\n",
    "print('Number of unique players: ', pga_tour_data['player'].nunique())\n",
    "print('Number of unique tournaments: ', pga_tour_data['tournament id'].nunique())\n",
    "print('Number of unique courses: ', pga_tour_data['course'].nunique())\n"
   ]
  },
  {
   "cell_type": "markdown",
   "metadata": {},
   "source": [
    "<u><b>Observations:</b></u>\n",
    "- The raw dataset has 36,864 rows/entries, meaning that there are records on 36,864 player appearance in PGA tour events between the 2015-2022 season.\n",
    "- From the `.head()` and `.tail()` method of previewing the data, we already observe that there are null values. Specifically, it appears that there is no `pos` and strokes-gained data for older tournaments.\n",
    "- There are numerous different data types that appear in this dataset, some of the variables will need to be modified to different variable types based on how we anticipate needing to use them in our analysis of the data.\n",
    "- For the `pos` variables, we can already see that there are some unusual values that will need to be address in the data cleaning process.\n",
    "- The oldest tournament included in the dataset is The Frys.com Open that occured on October 12th, 2014, that was part of the 2015 season, and the most recent tournament included in the data is The Memorial Tournament presented by Nationwide that occured on June 5th, 2022, that was part of the 2022 season.\n",
    "- The dataset includes data about **499 players** that completed on the PGA Tour during the 2015-2022 seasons.\n",
    "- There are **333 unique tournaments** including in the dataset thta occurred during the 2015-2022 seasons.\n",
    "- During the 2015-2022 seasons, there were **92 unique coursees** played between the different tournaments."
   ]
  },
  {
   "cell_type": "markdown",
   "metadata": {},
   "source": [
    "----\n",
    "\n",
    "## <font color = 'yellow'><u>Phase 3: Inspection and Removal of Questionable Variables</u><font>"
   ]
  },
  {
   "cell_type": "markdown",
   "metadata": {},
   "source": [
    "### Inspection of Questionable Variabels\n",
    "Based on the results of performing the `.info()` function, we identified the following variables as questionable either because of there number of null-values, or because of their unclear meaning.\n",
    "- finish_DKP           36864 non-null  int64  \n",
    "- finish_FDP           36864 non-null  int64  \n",
    "- finish_SDP           36864 non-null  int64  \n",
    "- total_DKP            36864 non-null  float64\n",
    "- total_FDP            36864 non-null  float64\n",
    "- total_SDP            36864 non-null  int64  \n",
    "- Unnamed: 2           0 non-null      float64\n",
    "- Unnamed: 3           0 non-null      float64\n",
    "- Unnamed: 4           0 non-null      float64"
   ]
  },
  {
   "cell_type": "markdown",
   "metadata": {},
   "source": [
    "<font color=\"green\">**Key takeaways from dataset .info() inspection:**</font>\n",
    "From the previously performed .info() method, the following observations were made.\n",
    "- The strokes gained variables contain nulls. After inspecting the head and tail of the dataset, it becomes apparent that the data about older tournaments does not include strokes gained statistics.\n",
    "- Additionally, the fields 21 through 22 entitled “Unnamed: 2,” “Unnamed: 3,” and “Unnamed: 4” appear to be completely empty variables, so these will likely be dropped from the dataset after further inspection."
   ]
  },
  {
   "cell_type": "code",
   "execution_count": null,
   "metadata": {
    "scrolled": true
   },
   "outputs": [],
   "source": [
    "# Observe the 3 variables with no data to confirm that I am not dropping any valuable information.\n",
    "pga_tour_data[['Unnamed: 2','Unnamed: 3', 'Unnamed: 4']]\n",
    "pga_tour_data['Unnamed: 2'].value_counts()\n",
    "pga_tour_data['Unnamed: 3'].value_counts()\n",
    "pga_tour_data['Unnamed: 4'].value_counts()"
   ]
  },
  {
   "cell_type": "code",
   "execution_count": null,
   "metadata": {},
   "outputs": [],
   "source": [
    "# Observe the \"DKP\", \"FKP\", and \"SDP\" variables.\n",
    "pga_tour_data[['Player_initial_last',\n",
    "               'hole_DKP','hole_FDP','hole_SDP',\n",
    "               'streak_DKP','streak_FDP','streak_SDP',\n",
    "               'finish_DKP','finish_FDP','finish_SDP',\n",
    "               'total_DKP','total_FDP','total_SDP']]\n",
    "# Based on inspecting the data, I've determined I won't need this data in my analysis"
   ]
  },
  {
   "cell_type": "code",
   "execution_count": null,
   "metadata": {},
   "outputs": [],
   "source": [
    "# Drop the 3 variables with no values.\n",
    "pga_tour_data.drop(columns = ['Unnamed: 2','Unnamed: 3', 'Unnamed: 4'], inplace = True)"
   ]
  },
  {
   "cell_type": "code",
   "execution_count": null,
   "metadata": {},
   "outputs": [],
   "source": [
    "# Confirm that the variables were dropped using true false logic.\n",
    "if 'Unnamed: 2' and 'Unnamed: 3' and 'Unnamed: 4' in pga_tour_data.columns:\n",
    "    print('Variables not dropped')\n",
    "else:\n",
    "    print('Unnamed variables successfully dropped')"
   ]
  },
  {
   "cell_type": "code",
   "execution_count": null,
   "metadata": {},
   "outputs": [],
   "source": [
    "# Drop the \"DKP\", \"FKP\", and \"SDP\" variables.\n",
    "pga_tour_data.drop(columns = \n",
    "                   ['hole_DKP','hole_FDP','hole_SDP',\n",
    "                    'streak_DKP','streak_FDP','streak_SDP',\n",
    "                    'finish_DKP','finish_FDP','finish_SDP',\n",
    "                    'total_DKP','total_FDP','total_SDP'],\n",
    "                  inplace = True)\n",
    "\n",
    "# Confirm that the variables were dropped using true false logic.\n",
    "if 'hole_DKP' and 'hole_FDP' and 'hole_SDP' and 'streak_DKP' and 'streak_FDP' and 'streak_SDP' and 'finish_DKP' and 'finish_FDP' and 'finish_SDP' and 'total_DKP' and 'total_FDP' and 'total_SDP' in pga_tour_data.columns:\n",
    "    print('Variables not dropped')\n",
    "else:\n",
    "    print('\"DKP\", \"FKP\", and \"SDP\" variables successfully dropped')"
   ]
  },
  {
   "cell_type": "markdown",
   "metadata": {},
   "source": [
    "----\n",
    "\n",
    "### Inspection of Questionable Variables"
   ]
  },
  {
   "cell_type": "code",
   "execution_count": null,
   "metadata": {
    "scrolled": true
   },
   "outputs": [],
   "source": [
    "pga_tour_data[['Finish','pos']]\n",
    "pga_tour_data['Finish'].value_counts()\n",
    "pga_tour_data['pos'].value_counts()"
   ]
  },
  {
   "cell_type": "code",
   "execution_count": null,
   "metadata": {
    "scrolled": false
   },
   "outputs": [],
   "source": [
    "# I want to investigate how the 'player' and 'Player_Initial_Last' differ.\n",
    "\n",
    "pga_tour_data[['Player_initial_last','player']]"
   ]
  },
  {
   "cell_type": "code",
   "execution_count": null,
   "metadata": {},
   "outputs": [],
   "source": [
    "pga_tour_data[['sg_putt','sg_arg','sg_app','sg_ott','sg_t2g','sg_total']]"
   ]
  },
  {
   "cell_type": "markdown",
   "metadata": {},
   "source": [
    "<font color = \"green\"><u>**Key takeaways from inspection of questionable variables**</u></font>\n",
    "- The \"unnamed variables\" have no non-null data so I will inspect these variables and likely get rid of them.\n",
    "\n",
    "\n",
    "- I will inspect the \"DKP\", \"FKP\", and \"SDP\" statistics, but because the [AdvancedSportsAnalaytics.com](http://advancedsportsanalaytics.com/) website is still down, I am unable to learn what these variables mean. Although frustrating, my analysis goals mainly just require strokes gained statistics, so I will remove the \"DKP\", \"FKP\", and \"SDP\" variables from the dataset.\n",
    "    - My educated guess would be that these are point values assigned for different golf fantasy platforms. If this is correct, they are not important for the EDA, so I'm inclined to remove them from the final dataset.\n",
    "\n",
    "\n",
    "- The \"Finish\" variable is an object because it contains a string of the player's finishing position because some include \"T\" infront of the numerical finish the the player tied. The \"pos\" variable is a float because it is the player's numerical finishing position alone.\n",
    "    - Investigation of the “Finish” and “pos” variable reveals that some of the elements are missing finish position. We do not want our data to include instances in which players finishing positions are missing, as a players finishing position is the primary indicator for how they played. To address this, these elements of the data will need to be removed.\n",
    "    \n",
    "\n",
    "- The 'Player_initial_last' variable has the last name with first name initial, while the 'player' variable has the player's full name.\n",
    "\n",
    "\n",
    "- Not all of the tournaments have strokes gained information. Since these contain nulls, they have to be addressed by either assigning a value to the nulls or by removing these elements from the dataset.\n",
    "\n",
    "----"
   ]
  },
  {
   "cell_type": "markdown",
   "metadata": {},
   "source": [
    "### Dropping Undesired Variables"
   ]
  },
  {
   "cell_type": "markdown",
   "metadata": {},
   "source": [
    "----\n",
    "\n",
    "### <u>Evaluating Field Types</u>"
   ]
  },
  {
   "cell_type": "markdown",
   "metadata": {},
   "source": [
    "### Changing All Identifying Variables to Objects\n",
    "\n",
    "<font color = 'green'><u>**The Player and Tournament Identifier Variables:**</u></font>\n",
    "1. 'Player_initial_last'\n",
    "2. 'tournament id'\n",
    "3. 'player id'\n",
    "4. 'player'\n",
    "5. 'tournament name'\n",
    "6. 'course'\n",
    "7. 'season'\n"
   ]
  },
  {
   "cell_type": "code",
   "execution_count": null,
   "metadata": {},
   "outputs": [],
   "source": [
    "\"\"\"\n",
    "Change all identifying variables to string data types and confirm the change was successfully made.\n",
    "\"\"\"\n",
    "\n",
    "# Define all the identifying variables\n",
    "identifying_variables = ['Player_initial_last', 'tournament id', 'player id', 'player', 'tournament name', 'course', 'season']\n",
    "\n",
    "# Define all the identifying variables that are not already strings and change them to strings\n",
    "for variables in identifying_variables:\n",
    "    if pga_tour_data[variables].dtype != 'object':\n",
    "        pga_tour_data[variables] = pga_tour_data[variables].astype('object')\n",
    "        \n",
    "# Confirm that the variables were changed to strings using .info()\n",
    "pga_tour_data[identifying_variables].info()"
   ]
  },
  {
   "cell_type": "markdown",
   "metadata": {},
   "source": [
    "----\n",
    "\n",
    "### Changing the `date` variable to a datetime value type"
   ]
  },
  {
   "cell_type": "code",
   "execution_count": null,
   "metadata": {},
   "outputs": [],
   "source": [
    "\"\"\"\n",
    "In order to be able to perform time series analysis, I will change the `date` variable to a datetime data type.\n",
    "\"\"\"\n",
    "\n",
    "# Change the `date` variable to a datetime dat type\n",
    "pga_tour_data['date'] = pd.to_datetime(pga_tour_data['date'])\n",
    "\n",
    "# Confirm that the variable was changed to a datetime data type using .info()\n",
    "pga_tour_data['date'].info()"
   ]
  },
  {
   "cell_type": "markdown",
   "metadata": {},
   "source": [
    "----\n",
    "\n",
    "### Addressing Missing Values in Total Dataset"
   ]
  },
  {
   "cell_type": "markdown",
   "metadata": {},
   "source": [
    "Not all of the tournaments included in this dataset have strokes gained statistics for the playered; however, the data from these tournaments is still valuables, as they will contribute to the \"course experience\" analysis that I will perform later int he EDA."
   ]
  },
  {
   "cell_type": "markdown",
   "metadata": {},
   "source": [
    "<u>**Addressing Unusual `pos` values**</u>"
   ]
  },
  {
   "cell_type": "code",
   "execution_count": null,
   "metadata": {},
   "outputs": [],
   "source": [
    "# Copy the original pga_tour_data.\n",
    "pga_cleaning = pga_tour_data.copy()\n",
    "\n",
    "# Replace all of the 999.9 values with 0, since the player\n",
    "# did not achieve a valid finishing position.\n",
    "pga_cleaning['pos'] = pga_cleaning['pos'].replace({999.0:0})\n",
    "\n",
    "# Examine the 'pos' variable to confirm that the 999.0 values were replaced with 0 using .value_counts() and .describe()\n",
    "pga_cleaning['pos'].value_counts()\n",
    "pga_cleaning['pos'].describe()\n",
    "\n",
    "# Identify the number of Null values in the 'pos' variable.\n",
    "pga_cleaning['pos'].isnull().sum() # 15,547 Null values"
   ]
  },
  {
   "cell_type": "code",
   "execution_count": null,
   "metadata": {},
   "outputs": [],
   "source": [
    "# Create a histogram of the 'pos' variable to help identify any other discrepencies in the pos data.\n",
    "sns.histplot(data = pga_cleaning, x = 'pos', bins = 100)"
   ]
  },
  {
   "cell_type": "code",
   "execution_count": null,
   "metadata": {},
   "outputs": [],
   "source": [
    "# Now, replace all of the Null values with 0, since\n",
    "# this means that they did not achieve a valid finishing position.\n",
    "pga_cleaning['pos'] = pga_cleaning['pos'].fillna(0)\n",
    "pga_cleaning['pos'].value_counts()"
   ]
  },
  {
   "cell_type": "code",
   "execution_count": null,
   "metadata": {},
   "outputs": [],
   "source": [
    "# Create another histogram of the 'pos' variable to confirm that the Null values were replaced with 0 and to observe any other discrepensies in the `pos` data.\n",
    "sns.histplot(data = pga_cleaning, x = 'pos', bins = 91)"
   ]
  },
  {
   "cell_type": "code",
   "execution_count": null,
   "metadata": {},
   "outputs": [],
   "source": [
    "\"\"\"\n",
    "Sum the count of all the 0 values in the `pos` variable and the count of all the non-zero values in the `pos` variable to see how they compare.\n",
    "\"\"\"\n",
    "zero_values = pga_cleaning['pos'].value_counts()[0]\n",
    "non_zero_values = pga_cleaning['pos'].value_counts()[1:].sum()\n",
    "\n",
    "# Display the results\n",
    "print(f\"Number of 0 values in the 'pos' variable: {zero_values}\") # 15,554 0 values\n",
    "print(f\"Number of non-zero values in the 'pos' variable: {non_zero_values}\") # 13,865 non-zero values"
   ]
  },
  {
   "cell_type": "markdown",
   "metadata": {},
   "source": [
    "When comparing the number of zero-position values to non-zero-position values from our, we find that ~47.13% of players make the cut and have a valid finishing position. \n",
    "\n",
    "This makes sense when we consider the structure of the \"cut\" on the PGA Tour. Tournament on the PGA Tour are structured in a way that ~150 players start the tournament and only the top 70, including ties, make the cut. Based on these number, ~46.67% of players make the cut, which is very similar to the proportion that we see here."
   ]
  },
  {
   "cell_type": "markdown",
   "metadata": {},
   "source": [
    "<u>**Evaluting `pos` and `Finish` to make sure sure their values allign**</u>"
   ]
  },
  {
   "cell_type": "code",
   "execution_count": null,
   "metadata": {},
   "outputs": [],
   "source": [
    "# Examine the `pos` and `Finish` variables to see if they are the same.\n",
    "pga_cleaning[['tournament name', 'season','player' ,'pos', 'Finish']]\n"
   ]
  },
  {
   "cell_type": "markdown",
   "metadata": {},
   "source": [
    "It is observed that some of the `Finish` positions do not properly reflect the player's true finishing position\n",
    "- i.e., Zac Blair's `pos` value for the 2015 Frys.com Open is 12.0; however, his `Finish` position is NaN."
   ]
  },
  {
   "cell_type": "code",
   "execution_count": null,
   "metadata": {},
   "outputs": [],
   "source": [
    "\"\"\"\n",
    "To make the `Finish` variable more consistent with the `pos` variable, I will replace all of the 'NaN' `Finish` values with the corresponding `pos` value.\n",
    "To note #1: the `Finish` variable is a string data type, and the `pos` variable is a flat data type, so this will need to be taken into consideration when replacing the values. \n",
    "To note #2: the shortcoming of this method is that the `Finish` variable is a string data type, and includes a 'T' in front of the player's finishing position to indicate that they tied with another player. \n",
    "I will try to address this later in the cleaning process.\n",
    "\"\"\"\n",
    "\n",
    "# Replace all of the 'NaN' `Finish` values with the corresponding `pos` value\n",
    "pga_cleaning['Finish'] = pga_cleaning['Finish'].fillna(pga_cleaning['pos'])\n",
    "\n",
    "# Confirm that the 'NaN' values were replaced with the corresponding `pos` value using .isnull().sum()\n",
    "pga_cleaning['Finish'].isnull().sum()\n",
    "\n",
    "# Since a 0 value in the `pos` variable indicates that the player did not achieve a valid finishing position, \n",
    "# I will replace all of the '0' values in the `Finish` variable do be 'CUT' to indicate that the player did not make the cut\n",
    "pga_cleaning['Finish'] = pga_cleaning['Finish'].replace({0:'CUT'})\n",
    "\n",
    "\"\"\"\n",
    "To Note #3: There are other values in the `Finish` variable that indicate that the player did not make the cut, such as 'WD' and 'DQ', or `MDF` (made cut, did not finish).\n",
    "While we will not be able to determine if the player made the cut or not, we can determine if they 'WD' (withdrew) or 'MDF' based on the variables `n_rounds` and `made_cut`.\n",
    "If the player withdrew, then the `n_rounds` variable will be either 1, and if the player made the cut but did not finish, then the `n_rounds` variable will be 3.\n",
    "\"\"\"\n",
    "\n",
    "# For all players with `n_rounds` equal to 1, replace the corresponding `Finish` value with `WD`\n",
    "pga_cleaning.loc[pga_cleaning['n_rounds'] == 1, 'Finish'] = 'WD'\n",
    "\n",
    "# For all players with `n_rounds` equal to 3, replace the corresponding `Finish` value with `MDF`\n",
    "pga_cleaning.loc[pga_cleaning['n_rounds'] == 3, 'Finish'] = 'MDF'\n",
    "\n",
    "# Confirm that the '0' values were replaced with 'CUT' and that the 'NaN' values were replaced with the corresponding `pos` value\n",
    "pga_cleaning[['tournament name', 'season','player' ,'pos', 'Finish']].head()\n",
    "pga_cleaning[['tournament name', 'season','player' ,'pos', 'Finish']].tail()\n",
    "\n"
   ]
  },
  {
   "cell_type": "markdown",
   "metadata": {},
   "source": [
    "<u>**Addressing `Null` strokes-gained values**</u>\n",
    "\n",
    "Now, to make sure that the nulls are addressed within the strokes gained statistics, all of the missing data values will be changed to 0 so that the players’ participation in this tournament can still be used for analysis not involving strokes-gained data."
   ]
  },
  {
   "cell_type": "code",
   "execution_count": null,
   "metadata": {},
   "outputs": [],
   "source": [
    "# Before addressing the `Null` values in the strokes-gained variable, create a copy of the pga_cleaning data to be used for the creation\n",
    "# of the strokes-gained dataframe.\n",
    "pga_cleaning_sg_copy = pga_cleaning.copy()\n",
    "\n",
    "# Define all of the strokes-gained variables\n",
    "sg_variables = ['sg_putt', 'sg_arg', 'sg_app', 'sg_ott', 'sg_t2g', 'sg_total']\n",
    "\n",
    "# Address all the Null values in the strokes-gained variables and replace them with 0.\n",
    "for variables in sg_variables:\n",
    "    pga_cleaning[variables] = pga_cleaning[variables].fillna(0)\n",
    "    \n",
    "# Confirm that the Null values were replaced with 0 using .isnull().sum()\n",
    "pga_cleaning[sg_variables].isnull().sum()"
   ]
  },
  {
   "cell_type": "markdown",
   "metadata": {},
   "source": [
    "----\n",
    "\n",
    "## <font color = 'green'><u>Phase 1.2: Creating the Strokes-Gained Dataframe</u></font>\n",
    "\n",
    "All of the tournaments in the dataset do not include the strokes gained (SG) statistics. Because these SG statistics are very important to by EDA, I am creating a new DataFrames that only includes tournaments that have SG data available.\n",
    "\n",
    "\n",
    "1. Identify all the tournaments that have strokes gained data.\n",
    "    \n",
    "2. Create a list of all the tournaments that have strokes gained data.\n",
    "    \n",
    "3. Remove all the players that are missing strokes gained data from those tournaments."
   ]
  },
  {
   "cell_type": "code",
   "execution_count": null,
   "metadata": {},
   "outputs": [],
   "source": [
    "\"\"\"\n",
    "Create a new `sg_data` dataframe that only includes the data from tournaments that includes strokes-gained data.\n",
    "\"\"\"\n",
    "\n",
    "# Create a new dataframe that only includes the data from tournaments that includes strokes-gained data.\n",
    "sg_data_clean = pga_cleaning_sg_copy[pga_cleaning_sg_copy['sg_total'].notnull()]\n",
    "\n",
    "\"\"\"\n",
    "By looking at the .info() after executing the above code, it's identified that the `sg_total` variable contains 29181 non-null values, while the other strokes-gained variables only contain 29180 non-null values.\n",
    "This indicates that there is one row of data that contains a value for `sg_total`, but not for the other strokes-gained variables.\n",
    "Thus, the next step is to identify this row of data and remove it from the dataframe.\n",
    "\"\"\"\n",
    "\n",
    "# Identify the row of data that contains a value for `sg_total`, but not for the other strokes-gained variables.\n",
    "sg_data_clean[sg_data_clean['sg_arg'].isnull()] # Row 2068 - C. Hoffman, 2022 - AT&T Pebble Beach Pro-Am\n",
    "\n",
    "# Remove this row of data that contains nulls for non-`sg_total` strokes-gained variables.\n",
    "sg_data_clean = pga_cleaning_sg_copy[pga_cleaning_sg_copy['sg_putt'].notnull()]\n",
    "\n",
    "# Confirm that the new dataframe only includes the data from tournaments that included strokes gained data.\n",
    "sg_data_clean.info()\n",
    "\n",
    "# View the head and tail of the new dataframe to observe the new strokes-gained data.\n",
    "sg_data_clean.head()\n",
    "sg_data_clean.tail()\n"
   ]
  },
  {
   "cell_type": "code",
   "execution_count": null,
   "metadata": {},
   "outputs": [],
   "source": [
    "\"\"\"\n",
    "For the analysis of strokes-gained data, I only want to include players that have either completed 2 round and missed the cut, or have completed all 4 rounds having made the cut.\n",
    "If the player either withdrew, was disqualified, or make the cut but did not finish, this strokes-gained data will likely be skewed and not be a good representation of their performance.\n",
    "\n",
    "Thus, I will create a new dataframe called `sg_data_clean` that only includes players that have either completed 2 round and missed the cut, or have completed all 4 rounds having made the cut.\n",
    "\"\"\"\n",
    "\n",
    "# Create a new dataframe called `sg_data_clean` that aligns with the criteria above\n",
    "sg_data_clean = sg_data_clean[(sg_data_clean['n_rounds'] == 2) & (sg_data_clean['Finish'] == 'CUT') | (sg_data_clean['n_rounds'] == 4) & (sg_data_clean['Finish'] != 'CUT')]\n",
    "\n",
    "# Confirm that the new dataframe only includes the criteria above\n",
    "sg_data_clean"
   ]
  },
  {
   "cell_type": "markdown",
   "metadata": {},
   "source": [
    "----\n",
    "\n",
    "## Inspection of Individual Variables"
   ]
  },
  {
   "cell_type": "markdown",
   "metadata": {},
   "source": [
    "**Inspection of `player id` field**"
   ]
  },
  {
   "cell_type": "code",
   "execution_count": null,
   "metadata": {
    "scrolled": false
   },
   "outputs": [],
   "source": [
    "pga_cleaning['player id'].value_counts()"
   ]
  },
  {
   "cell_type": "markdown",
   "metadata": {},
   "source": [
    "**Inspection of `season` field**"
   ]
  },
  {
   "cell_type": "code",
   "execution_count": null,
   "metadata": {},
   "outputs": [],
   "source": [
    "pga_cleaning['season'].value_counts()"
   ]
  },
  {
   "cell_type": "markdown",
   "metadata": {},
   "source": [
    "### Inspection of Tournament-Specific Variables"
   ]
  },
  {
   "cell_type": "markdown",
   "metadata": {},
   "source": [
    "**Inspection of `tournament name` field**"
   ]
  },
  {
   "cell_type": "code",
   "execution_count": null,
   "metadata": {},
   "outputs": [],
   "source": [
    "pga_cleaning['tournament name'].value_counts()"
   ]
  },
  {
   "cell_type": "markdown",
   "metadata": {},
   "source": [
    "**Inspection of `tournament id` field**"
   ]
  },
  {
   "cell_type": "code",
   "execution_count": null,
   "metadata": {},
   "outputs": [],
   "source": [
    "pga_cleaning['tournament id'].value_counts()"
   ]
  },
  {
   "cell_type": "markdown",
   "metadata": {},
   "source": [
    "**Inspection of the `course` field**"
   ]
  },
  {
   "cell_type": "code",
   "execution_count": null,
   "metadata": {
    "scrolled": true
   },
   "outputs": [],
   "source": [
    "pga_cleaning['course'].value_counts()"
   ]
  },
  {
   "cell_type": "markdown",
   "metadata": {},
   "source": [
    "**Inspection of the `date` field**"
   ]
  },
  {
   "cell_type": "code",
   "execution_count": null,
   "metadata": {
    "scrolled": true
   },
   "outputs": [],
   "source": [
    "pga_cleaning['date'].value_counts()"
   ]
  },
  {
   "cell_type": "markdown",
   "metadata": {},
   "source": [
    "**Inspection of the `purse` field**"
   ]
  },
  {
   "cell_type": "code",
   "execution_count": null,
   "metadata": {},
   "outputs": [],
   "source": [
    "pga_cleaning['purse'].value_counts()\n",
    "pga_cleaning['purse'].describe()"
   ]
  },
  {
   "cell_type": "markdown",
   "metadata": {},
   "source": [
    "**Inspection of the `hole_par` field**"
   ]
  },
  {
   "cell_type": "code",
   "execution_count": null,
   "metadata": {},
   "outputs": [],
   "source": [
    "pga_cleaning['hole_par'].value_counts()"
   ]
  },
  {
   "cell_type": "markdown",
   "metadata": {},
   "source": [
    "**Inspection of the `no_cut` field**"
   ]
  },
  {
   "cell_type": "code",
   "execution_count": null,
   "metadata": {},
   "outputs": [],
   "source": [
    "pga_cleaning['no_cut'].value_counts()"
   ]
  },
  {
   "cell_type": "markdown",
   "metadata": {},
   "source": [
    "### Inspection of Player Performance Variables"
   ]
  },
  {
   "cell_type": "markdown",
   "metadata": {},
   "source": [
    "**Inspection of the `n_rounds` field**"
   ]
  },
  {
   "cell_type": "code",
   "execution_count": null,
   "metadata": {},
   "outputs": [],
   "source": [
    "pga_cleaning['n_rounds'].value_counts()"
   ]
  },
  {
   "cell_type": "markdown",
   "metadata": {},
   "source": [
    "**Throughout the entire dataset:**\n",
    "- There were 317 players who only completed 1 round of a tournament.\n",
    "    - This would be due to either player disqualification or player withdrawal from the tournament.\n",
    "- There were 1030 players who only completed 3 rounds.\n",
    "    - This would also either be due to disqualification or withdrawal from the tournament.\n",
    "- There were 14211 players who only completed 2 rounds of a tournament.\n",
    "    - This would be due to players not making the cut.\n",
    "- There were 21306 players who completed the entire tournament (4 rounds).\n",
    "    - These players made the weekend cut and did not withdrawal from the tournament. There are the players that will have a finishing position.\n",
    "\n",
    "*For some of the analysis, I anticipate that I will not want to exclude players that only completed 1 or 3 rounds, because there players likely withdrew from the tournament.*"
   ]
  },
  {
   "cell_type": "markdown",
   "metadata": {},
   "source": [
    "**Inspection of the `made_cut` field**"
   ]
  },
  {
   "cell_type": "code",
   "execution_count": null,
   "metadata": {
    "scrolled": true
   },
   "outputs": [],
   "source": [
    "pga_cleaning['made_cut'].value_counts()"
   ]
  },
  {
   "cell_type": "markdown",
   "metadata": {},
   "source": [
    "These numbers are inline with the numbers above from the 'n_rounds' variable."
   ]
  },
  {
   "cell_type": "markdown",
   "metadata": {},
   "source": [
    "**Inspection of the `strokes` field**"
   ]
  },
  {
   "cell_type": "code",
   "execution_count": null,
   "metadata": {},
   "outputs": [],
   "source": [
    "pga_cleaning['strokes'].value_counts()"
   ]
  },
  {
   "cell_type": "markdown",
   "metadata": {},
   "source": [
    "**Inspection of the `Finish` field**"
   ]
  },
  {
   "cell_type": "code",
   "execution_count": null,
   "metadata": {},
   "outputs": [],
   "source": [
    "pga_cleaning['Finish'].value_counts()"
   ]
  },
  {
   "cell_type": "markdown",
   "metadata": {},
   "source": [
    "**Inspection of the `pos` field**"
   ]
  },
  {
   "cell_type": "code",
   "execution_count": null,
   "metadata": {},
   "outputs": [],
   "source": [
    "pga_cleaning['pos'].value_counts()"
   ]
  },
  {
   "cell_type": "markdown",
   "metadata": {},
   "source": [
    "### Inspection of the Strokes Gained Variables"
   ]
  },
  {
   "cell_type": "markdown",
   "metadata": {},
   "source": [
    "To inspect these variables, I will use the pga_sg dataframe, because this is the dataframe that I will be conduction strokes gained analysis on."
   ]
  },
  {
   "cell_type": "markdown",
   "metadata": {},
   "source": [
    "**Inspection of the `sg_putt` field**"
   ]
  },
  {
   "cell_type": "code",
   "execution_count": null,
   "metadata": {
    "scrolled": false
   },
   "outputs": [],
   "source": [
    "sg_data_clean['sg_putt'].value_counts()\n",
    "sg_data_clean['sg_putt'].describe()"
   ]
  },
  {
   "cell_type": "markdown",
   "metadata": {},
   "source": [
    "**Inspection of the `sg_arg` field**"
   ]
  },
  {
   "cell_type": "code",
   "execution_count": null,
   "metadata": {
    "scrolled": false
   },
   "outputs": [],
   "source": [
    "sg_data_clean['sg_arg'].value_counts()\n",
    "sg_data_clean['sg_arg'].describe()"
   ]
  },
  {
   "cell_type": "markdown",
   "metadata": {},
   "source": [
    "**Inspection of the `sg_app` field**"
   ]
  },
  {
   "cell_type": "code",
   "execution_count": null,
   "metadata": {
    "scrolled": false
   },
   "outputs": [],
   "source": [
    "sg_data_clean['sg_app'].value_counts()\n",
    "sg_data_clean['sg_app'].describe()"
   ]
  },
  {
   "cell_type": "markdown",
   "metadata": {},
   "source": [
    "**Inspection of the `sg_ott` field**"
   ]
  },
  {
   "cell_type": "code",
   "execution_count": null,
   "metadata": {
    "scrolled": false
   },
   "outputs": [],
   "source": [
    "sg_data_clean['sg_ott'].value_counts()\n",
    "sg_data_clean['sg_ott'].describe()"
   ]
  },
  {
   "cell_type": "markdown",
   "metadata": {},
   "source": [
    "**Inspection of the `sg_t2g` field**"
   ]
  },
  {
   "cell_type": "code",
   "execution_count": null,
   "metadata": {
    "scrolled": false
   },
   "outputs": [],
   "source": [
    "sg_data_clean['sg_t2g'].value_counts()\n",
    "sg_data_clean['sg_t2g'].describe()"
   ]
  },
  {
   "cell_type": "markdown",
   "metadata": {},
   "source": [
    "**Inspection of the `sg_total` field**"
   ]
  },
  {
   "cell_type": "code",
   "execution_count": null,
   "metadata": {
    "scrolled": false
   },
   "outputs": [],
   "source": [
    "sg_data_clean['sg_total'].value_counts()\n",
    "sg_data_clean['sg_total'].describe()"
   ]
  },
  {
   "cell_type": "markdown",
   "metadata": {},
   "source": [
    "### Investigation of Outliers Among Strokes Gained Variables"
   ]
  },
  {
   "cell_type": "code",
   "execution_count": null,
   "metadata": {
    "scrolled": true
   },
   "outputs": [],
   "source": [
    "# Boxingplots of the desires variables I want to observe further.\n",
    "# sg_variables = ['sg_putt','sg_arg','sg_app','sg_ott','sg_t2g','sg_total']\n",
    "\n",
    "pga_tour_data.boxplot(column = ['sg_putt','sg_arg','sg_app','sg_ott','sg_t2g','sg_total'])"
   ]
  },
  {
   "cell_type": "markdown",
   "metadata": {},
   "source": [
    "<font color = 'green'><u>**Takeaway:**</u></font>\n",
    "\n",
    "Although there are several outliers in the strokes gained variables, these data points represent actual performances of players in a tournament. Whether they were exceptionally good or bad, this information is valuable and should not be excluded from the dataframe during analysis.\n",
    "\n",
    "----"
   ]
  },
  {
   "cell_type": "markdown",
   "metadata": {},
   "source": [
    "## <font color = \"green\">Phase 1.3: Creation of \"Course Experience\" Variable and DataFrame </font>"
   ]
  },
  {
   "cell_type": "markdown",
   "metadata": {},
   "source": [
    "In the analysis phase of the EDA, I want to analyze whether a player's previous course experience has an impact on their performance at a given course.\n",
    "To do this, I will create a new variable called `course_experience` that calculates the number of rounds the player has previously played at that course\n",
    "prior to the current tournament.\n",
    "\n",
    "Method for creating the `course_experience` variable:\n",
    "1. Group the dataset by player and course, and calculate the cumulative sum of n_rounds.\n",
    "2. Subtract the current n_rounds from the cumulative sum to get the number of rounds the player has previously played at that course.\n",
    "3. Sort the dataset by player, course, and season in ascending order.\n",
    "4. Reset the course_experience to 0 for the first season of each player and course combination."
   ]
  },
  {
   "cell_type": "code",
   "execution_count": null,
   "metadata": {},
   "outputs": [],
   "source": [
    "# Group the dataset by player and course, and calculate the cumulative sum of n_rounds\n",
    "pga_cleaning['course_experience'] = pga_cleaning.groupby(['player', 'course'])['n_rounds'].cumsum()\n",
    "\n",
    "# Subtract the current n_rounds from the cumulative sum to get the number of rounds the player has previously played at that course\n",
    "pga_cleaning['course_experience'] -= pga_cleaning['n_rounds']\n",
    "\n",
    "# Sort the dataset by player, course, and season in ascending order\n",
    "pga_cleaning.sort_values(['player', 'course', 'season'], inplace=True)\n",
    "\n",
    "# Reset the course_experience to 0 for the first season of each player and course combination\n",
    "pga_cleaning.loc[pga_cleaning.groupby(['player', 'course'])['season'].idxmin(), 'course_experience'] = 0\n",
    "\n",
    "# Display the updated dataset\n",
    "pga_cleaning[['Player_initial_last', 'n_rounds', 'course', 'tournament name', 'season', 'course_experience']].head(30)\n",
    "pga_cleaning[['Player_initial_last', 'n_rounds', 'course', 'tournament name', 'season', 'course_experience']].tail(30)\n"
   ]
  },
  {
   "cell_type": "markdown",
   "metadata": {},
   "source": [
    "----\n",
    "\n",
    "<div class=\"alert alert-block alert-success\">\n",
    "Export the cleaned data sets.</div>"
   ]
  },
  {
   "cell_type": "code",
   "execution_count": null,
   "metadata": {},
   "outputs": [],
   "source": [
    "\n",
    "# Export the full cleaned dataset as a csv file\n",
    "pga_cleaning.to_csv('pga_clean.csv', header = True, index = False)\n",
    "\n",
    "# Export the strokes-gained cleaned dataset as a csv file\n",
    "sg_data_clean.to_csv('sg_data_clean.csv', header = True, index = False)"
   ]
  },
  {
   "cell_type": "markdown",
   "metadata": {},
   "source": [
    "## <font color = \"green\">Phase 2: Data Analysis</font>"
   ]
  },
  {
   "cell_type": "markdown",
   "metadata": {},
   "source": [
    "### <font color = \"darkgreen\">Question 1</font>\n",
    "\n",
    "What aspect of a player's golf game is the most important predictor of whether or not they perform well in a tournament?"
   ]
  },
  {
   "cell_type": "code",
   "execution_count": null,
   "metadata": {},
   "outputs": [],
   "source": [
    "# For this analysis, I will be using the strokes gained statistic. So, I will be utilizing the\n",
    "# pga_sg DataFrame that exclused tournaments that don't have strokes gained information.\n",
    "\n",
    "# Display pga_sg DataFrame information for reference.\n",
    "pga_sg.info()"
   ]
  },
  {
   "cell_type": "code",
   "execution_count": null,
   "metadata": {
    "scrolled": true
   },
   "outputs": [],
   "source": [
    "sg_vars = ['pos','sg_putt','sg_arg','sg_app','sg_ott','sg_t2g','sg_total']\n",
    "sns.pairplot(pga_sg[sg_vars])"
   ]
  },
  {
   "cell_type": "markdown",
   "metadata": {},
   "source": [
    "<font color = 'green'><u>**Key takeaways:**</u></font>\n",
    "\n",
    "For my analysis of the strokes gained data, I am going to want to try only including the data for players that completed all 4 rounds of golf to see how the results differ.\n",
    "\n",
    "- Additionally, for the sake of analysis, I am going to remove everyone who has a finishing position of 0."
   ]
  },
  {
   "cell_type": "code",
   "execution_count": null,
   "metadata": {},
   "outputs": [],
   "source": [
    "# Create a new DataFrame that only includes information for players that completed all four rounds of golf\n",
    "# and who don't have a finishing position of 0\n",
    "pga_sg_4 = pga_sg[(pga_sg['n_rounds'] == 4) & (pga_sg['pos'] != 0)]\n",
    "\n",
    "# Create a PairGrid containing scatter plots and kde plots for the strokes gained variables and finishing position\n",
    "test = sns.PairGrid(pga_sg_4[sg_vars], diag_sharey=False)\n",
    "test.map_upper(sns.kdeplot)\n",
    "test.map_lower(sns.scatterplot)\n",
    "test.map_diag(sns.kdeplot)"
   ]
  },
  {
   "cell_type": "markdown",
   "metadata": {},
   "source": [
    "<font color = 'red'><u>**Important Note:**</u><font>\n",
    "\n",
    "- When analyzing the strokes gained variables, there will always be the greatest correlation between “strokes gained: total” and finishing position. This is because the player the wins the tournament will have the score that is farther away from the mean in the negative direction, and therefore, they will have the greatest number of strokes gained on the field as a whole.\n",
    "\n",
    "<font color = 'green'><u>**Key takeaways:**</u><font>\n",
    "\n",
    "- When determining which aspects of a players game is the most important predictor of whether they perform well in a tournament, we are most interested in the top row of the PairGrid, and the leftmost column of the PairGrid.\n",
    "    \n",
    "    \n",
    "- For the top row of kernel density estimate (KDE) plots, the top performing players are those towards the bottom of the graph, so we want to see which variables have the most negative relationship.\n",
    "    \n",
    "    - Upon observation of the top KDE plots (disregarding the st_total variables), the other two variables that seems to have the greatest negative correlation with finishing position are “sg_app” (Strokes Gained - Approach) and “sp_t2g” (Strokes Gained - Tee to Green).\n",
    "    \n",
    "    \n",
    "- “Strokes Gained - Approach” and “Strokes Gained -Tee 2 Green” being the most important indicators of a player's performance in a golf tournament is also supported by the following plots:\n",
    "    \n",
    "    - Strokes Gained - Approach x Strokes Gained - Total (both scatter and KDE plots)\n",
    "        - Since the best-performing players will have the highest “Strokes Gained - Total”, since these two variable appears to be positively correlated with one another, this indicates that “Strokes Gained - Approach” is an important indicator of a player’s overall performance.\n",
    "    \n",
    "    - Strokes Gained - Tee to Green x Strokes Gained - Total (both scatter and KDE plots)\n",
    "        - For the same reason as stated above, the positive correlation between “Strokes Gained - Tee to Green” and “Strokes Gained - Total” indicates that “Strokes Gained - Tee to Green is an important indicator of a player’s overall performance.\n",
    "    \n",
    "    \n",
    "- Further, we observe the relationship between “Strokes Gained - Tee to Green” and the other strokes gained variables, we see that ‘Strokes Gained - Tee to Green” has the strongest positive correlation with “Strokes Gained - Approach.” This indicates that how a player is performing with their approach shots strongly contributes to their “Stroked Gained - Tee to Green” and their overall success in tournaments.\n",
    "\n",
    "<font color = 'blue'><u>**Next Steps:**</u><font>\n",
    "\n",
    "- I will generate a correlation matrix and a Seaborn heatmap to delve deeper into the relationship between the strokes gained variables, their correlation with the finishing position, and with each other."
   ]
  },
  {
   "cell_type": "code",
   "execution_count": null,
   "metadata": {},
   "outputs": [],
   "source": [
    "# Create DataFrame for correlations\n",
    "sg_df_corr = pga_sg_4[sg_vars]\n",
    "\n",
    "# Create a correlation matrix\n",
    "corr_sg = sg_df_corr.corr()\n",
    "corr_sg\n",
    "\n",
    "# Create a heatmap of the correlation matrix\n",
    "f, ax = plt.subplots(figsize = (8, 8))\n",
    "sns.heatmap(corr_sg, vmax = .90, square = True, annot = True, cmap = 'Spectral', linewidths = 0.5)"
   ]
  },
  {
   "cell_type": "markdown",
   "metadata": {},
   "source": [
    "<font color = 'green'><u>**Key takeaways:**</u></font>\n",
    "\n",
    "- The results of the heatmap of the correlation matrix confirm the findings from the PairGrid plots:\n",
    "    - Strokes Gained - Tee to Green has a moderately strong correlation with finishing position (-0.67) and Strokes Gained - Total (0.77).\n",
    "    - Strokes Gained - Approach has a moderate correlation with finishing position (-0.48) and Strokes Gained - Total (0.56).\n",
    "    - Strokes Gained - Approach has a moderately strong correlation with Strokes Gained - Tee to Green (0.73), indicating the important contribution that approach shots have to Strokes Gained - Tee to Green\n",
    "- **New finding:** The heatplot further revealed that “sg_putt” (Strokes Gained - Putting) is almost equally as correlated with finishing position as Strokes Gained - Approach is (-0.43 vs -0.48)."
   ]
  },
  {
   "cell_type": "markdown",
   "metadata": {},
   "source": [
    "### <font color = 'green'>Conclusions:</font>\n",
    "- The most important aspects of a professional golfer’s game are the following (in order):\n",
    "    1. Strokes gained - Tee to Green\n",
    "    2. Strokes gained - Approach\n",
    "    3. Strokes gained - Putting\n",
    "    \n",
    "    \n",
    "- Additionally, a player’s Strokes Gained - Approach most affects their Strokes Gained - Tee to Green.\n",
    "    - This implies that a player’s approach game is a more important performance off the tee and around the green."
   ]
  },
  {
   "cell_type": "markdown",
   "metadata": {},
   "source": [
    "### <font color = \"darkgreen\">Question 2</font> \n",
    "\n",
    "Are there specific courses on the PGA tour schedule that reward experience the most?\n",
    "- In other words, which courses do players who have played the course multiple times perform the best?\n",
    "\n",
    "<font color = 'darkorange'><u>**Approach:**</u></font>\n",
    "\n",
    "To answer this question, I am going to use the 2022 season DataFrame that I created earlier that contains the newly created \"previous total rounds\" and \"course experience\" variables.\n"
   ]
  },
  {
   "cell_type": "markdown",
   "metadata": {},
   "source": [
    "**1. First,** I am going to analyze whether there is a correlation between the number of rounds a player has previously played at a course and their finishing position."
   ]
  },
  {
   "cell_type": "code",
   "execution_count": null,
   "metadata": {},
   "outputs": [],
   "source": [
    "# Look at the list of all the course that are included in the 2022 season data.\n",
    "unique_courses = season_2022_exp['course'].unique()\n",
    "unique_courses"
   ]
  },
  {
   "cell_type": "code",
   "execution_count": null,
   "metadata": {},
   "outputs": [],
   "source": [
    "# Create a scatterplot of the 'previous total rounds' and 'pos' variables to explore any potential relationship\n",
    "sns.scatterplot(data=season_2022_exp, x='previous total rounds', y='pos')"
   ]
  },
  {
   "cell_type": "code",
   "execution_count": null,
   "metadata": {},
   "outputs": [],
   "source": [
    "# Recreate the scatterplot with a DataFrame that removes the players the didn't complete the tournment\n",
    "# and don't have a finishing position above 0.\n",
    "\n",
    "# Create new DataFrame that excludes players that finishing with a position of '0'.\n",
    "season_22_finish = season_2022_exp[season_2022_exp['pos'] != 0]\n",
    "\n",
    "# Recreate the regression scatterplot.\n",
    "sns.lmplot(data=season_22_finish, x='previous total rounds', y='pos', line_kws={'color': 'black'}, legend = True)"
   ]
  },
  {
   "cell_type": "markdown",
   "metadata": {},
   "source": [
    "<font color = 'green'><u>**Impression**:</u></font>\n",
    "\n",
    "- There is a slight downward trend between finishing position and total number of previous rounds played, meaning that those who have more experience with the course perform slightly better overall throughout the season."
   ]
  },
  {
   "cell_type": "markdown",
   "metadata": {},
   "source": [
    "**2. Secondly,** I am going to generate side-by-side boxplots of player course experience and finishing position to see if the distributions show any meaningful difference."
   ]
  },
  {
   "cell_type": "code",
   "execution_count": null,
   "metadata": {},
   "outputs": [],
   "source": [
    "# Create the side-by-side boxplot of the distribution of finishing position among players of the \n",
    "# three different course experience levels.\n",
    "sns.boxplot(data=season_22_finish, x = 'pos', y = 'course experience')"
   ]
  },
  {
   "cell_type": "markdown",
   "metadata": {},
   "source": [
    "<font color = 'green'><u>**Impression**:</u></font>\n",
    "\n",
    "- In general, experienced and knowledgeable golfers tend to perform slightly better than novice players; however, the difference in the distribution is not significant.\n",
    "\n",
    "\n",
    "- Out of the three categories, experienced golfers tend to perform the best. This is expected, as in most sports (up until a certain point) the more time they have to improve and understand their game, the better they will perform. However, it is important to note that there is little difference in distribution between the experienced and knowledgeable golfers."
   ]
  },
  {
   "cell_type": "markdown",
   "metadata": {},
   "source": [
    "**3. Thirdly,** I am going to create a bar graph that shows the total number of rounds the previous winners had played on the course prior to them winning there in the 2022 season.\n",
    "- I am also going to repeat this, but instead of just including the golfers who won the tournament, I am going to include the average total previous rounds played of all the players who placed 5th or above. I will do this again for all players who place 10th or above to see how the results change when including a larger sample of the top performing golfers."
   ]
  },
  {
   "cell_type": "code",
   "execution_count": null,
   "metadata": {},
   "outputs": [],
   "source": [
    "# Create new DataFrame of just the 2022 season winners.\n",
    "winners_2022 = season_2022_exp[season_2022_exp['pos'] == 1]\n",
    "winners_2022"
   ]
  },
  {
   "cell_type": "code",
   "execution_count": null,
   "metadata": {},
   "outputs": [],
   "source": [
    "# Create a horizontal barchart\n",
    "fig, ax = plt.subplots(figsize = (10,10))\n",
    "\n",
    "winners_sort = winners_2022.sort_values(by = 'previous total rounds')\n",
    "\n",
    "ax.barh(winners_sort['course'], winners_sort['previous total rounds'], align = 'center')\n",
    "\n",
    "ax.set(xlabel = 'Previous rounds played on course by winner', ylabel = 'Course',\n",
    "      title = \"Previous Course Experience of Winners in 2022 Season\")"
   ]
  },
  {
   "cell_type": "markdown",
   "metadata": {},
   "source": [
    "<font color = 'green'><u>**Impression:**</u></font>\n",
    "\n",
    "- When just considering the winners of the tournaments, the top 5 courses that most favor course experience are:\n",
    "    1. Pebble Beach Resort\n",
    "    2. Muirfield Village Golf Club\n",
    "    3. La Quinta CC\n",
    "    4. Torrey Pines North\n",
    "    5. Waialae CC"
   ]
  },
  {
   "cell_type": "code",
   "execution_count": null,
   "metadata": {},
   "outputs": [],
   "source": [
    "# Create bar graph with the average previous total rounds for the players who finished in position 5 or better.\n",
    "\n",
    "# Get the average previous total rounds played by the players who finishing in position 5 and above\n",
    "# for each fo the tournaments (groups by course).\n",
    "\n",
    "# Create a new DataFrame that only includes players that finishing in position 5 and above.\n",
    "finishing_pos = [1, 2, 3, 4, 5]\n",
    "top_5 = season_22_finish[season_22_finish['pos'].isin(finishing_pos)]\n",
    "\n",
    "# Group the new DataFrame by 'course'\n",
    "grouped_course = top_5.groupby('course')\n",
    "\n",
    "# Calculate the average of 'previous total rounds' for each 'course' group.\n",
    "average_previous_rounds = grouped_course['previous total rounds'].mean().reset_index()\n",
    "\n",
    "# Rename 'previous total rounds' to 'average round of top 5'\n",
    "\n",
    "average_previous_rounds = average_previous_rounds.rename(columns={'course': 'Course',\n",
    "                                                                  'previous total rounds': 'Average round of top 5',})\n",
    "\n",
    "average_previous_rounds"
   ]
  },
  {
   "cell_type": "code",
   "execution_count": null,
   "metadata": {
    "scrolled": true
   },
   "outputs": [],
   "source": [
    "# Create a horizontal barchart of this data.\n",
    "fig, ax = plt.subplots(figsize = (10,10))\n",
    "\n",
    "top_5_avg_sorted = average_previous_rounds.sort_values(by = 'Average round of top 5')\n",
    "\n",
    "ax.barh(top_5_avg_sorted['Course'], top_5_avg_sorted['Average round of top 5'], align = 'center')\n",
    "\n",
    "ax.set(xlabel = 'Average previous rounds played by top 5 finishing players', ylabel = 'Course',\n",
    "      title = \"Average Previous Course Experience of Top 5 Finishing Player by Course in 2022 Season\")"
   ]
  },
  {
   "cell_type": "markdown",
   "metadata": {},
   "source": [
    "<font color = 'green'><u>**Impression:**</u></font>\n",
    "\n",
    "- When considering the average previous total rounds played among players finishing 5th or above, the top 5 courses that favor course experience are:\n",
    "    1. Pebble Beach Resort \n",
    "    2. Torrey Pines North\n",
    "    3. Waialae CC\n",
    "    4. La Quinta CC\n",
    "    5. Albany - New Providence\n",
    "    \n",
    "    In this list, Pebble Beach Resort remains the top course that favors course experience. The only course that difference between these two lists are that Muirfield Village Golf Club moves out of the top 5 down to 15th, and Albany - New Providence is the new 5th."
   ]
  },
  {
   "cell_type": "code",
   "execution_count": null,
   "metadata": {},
   "outputs": [],
   "source": [
    "# Create bar graph with the average previous total rounds for the players who finished in position 10 or better.\n",
    "\n",
    "# Get the average previous total rounds played by the players who finishing in position 10 and above\n",
    "# for each fo the tournaments (groups by course).\n",
    "\n",
    "# Create a new DataFrame that only includes players that finishing in position 10 and above.\n",
    "finishing_pos = [1, 2, 3, 4, 5, 6, 7, 8, 9, 10]\n",
    "top_10 = season_22_finish[season_22_finish['pos'].isin(finishing_pos)]\n",
    "\n",
    "# Group the new DataFrame by 'course'\n",
    "grouped_course = top_10.groupby('course')\n",
    "\n",
    "# Calculate the average of 'previous total rounds' for each 'course' group.\n",
    "average_previous_rounds_10 = grouped_course['previous total rounds'].mean().reset_index()\n",
    "\n",
    "# Rename 'previous total rounds' to 'average round of top 5'\n",
    "\n",
    "average_previous_rounds_10 = average_previous_rounds_10.rename(columns={'course': 'Course',\n",
    "                                                                  'previous total rounds': 'Average round of top 10',})\n",
    "\n",
    "average_previous_rounds_10"
   ]
  },
  {
   "cell_type": "code",
   "execution_count": null,
   "metadata": {},
   "outputs": [],
   "source": [
    "# Create a horizontal barchart of this data.\n",
    "fig, ax = plt.subplots(figsize = (10,10))\n",
    "\n",
    "top_10_avg_sorted = average_previous_rounds_10.sort_values(by = 'Average round of top 10')\n",
    "\n",
    "ax.barh(top_10_avg_sorted['Course'], top_10_avg_sorted['Average round of top 10'], align = 'center')\n",
    "\n",
    "ax.set(xlabel = 'Average previous rounds played by top 10 finishing players', ylabel = 'Course',\n",
    "      title = \"Average Previous Course Experience of Top 10 Finishing Player by Course in 2022 Season\")"
   ]
  },
  {
   "cell_type": "markdown",
   "metadata": {},
   "source": [
    "<font color = 'green'><u>**Impression:**</u></font>\n",
    "\n",
    "- When considering the average previous total rounds played among players finishing 5th or above, the top 10 courses that favor course experience are:\n",
    "    1. Pebble Beach Resort\n",
    "    2. TPC Scottsdale\n",
    "    3. Torrey Pines North\n",
    "    4. Waialae CC\n",
    "    5. Colonial\n",
    "    \n",
    "    In this list, Pebble Beach Report remains the top course that favors course experience. The courses that remain from the first two lists are Pebble Beach Report, Torrey Pines North, and Waialae CC. The new courses that enter the top 5 are TPC Scottsdale and Colonial."
   ]
  },
  {
   "cell_type": "markdown",
   "metadata": {},
   "source": [
    "### <font color = 'green'>Conclusion:<font>\n",
    "- In the 2022 season, the courses that favored players with the most course experience were **Pebble Beach Resort, Torrey Pines North**, and **Waialae CC.**\n",
    "    - Notably, **Augusta National Golf Club** and **TPC Sawgrass** were also favorable to players with significant course experience."
   ]
  },
  {
   "cell_type": "markdown",
   "metadata": {},
   "source": [
    "### <font color = \"darkgreen\">Question 3</font>\n",
    "\n",
    "On which courses is it most important to be \"hot with the putter\"? In other words, on which courses is it most important for the winners of the tournament to have a high stroked gained - putting statistic?\n",
    "\n",
    "<font color = 'darkorange'><u>**Approach:**</u><font>\n",
    "1. Calculate the average of the “Strokes Gained Putting Ratio” of all the players that have won tournaments on each course.\n",
    "    - Strokes Gained - Putting alone is not a good indicator of how important it is to be “hot with the putter” on a given golf course, because courses with easy greens will likely have winners with very high Strokes Gained Putting.\n",
    "        - Therefore, the approach I’m going to take is to calculate the “Strokes Gained Putting Ratio”, which will be the ratio of Strokes Gained - Putting to Strokes Gained - Total, since Strokes Gained - Total is the indicator of the player's overall performance.\n",
    "        - Ultimately, the “Strokes Gained Putting Statistic” is an indicator of how much the player’s putting contributed to them winning the tournament. It is logical to assume that on putter-intensive courses, the winner’s putting will have to contributing significantly to their overall performance.\n",
    "\n",
    "    \n",
    "2. Sort the list of “Average Strokes Gained Putting Ratios of All Winning Players by Course” to determine which courses historically have had winners with the highest Strokes Gained  Putting Ratio statistic."
   ]
  },
  {
   "cell_type": "code",
   "execution_count": null,
   "metadata": {},
   "outputs": [],
   "source": [
    "# Create a new DataFrame that only includes players that have won tournaments.\n",
    "pga_winners = pga_sg[pga_sg['pos'] == 1].copy()\n",
    "\n",
    "# Calculate the Strokes Gained Putting Ratio 'sg_putt_ratio'\n",
    "pga_winners.loc[:, 'sg_putt_ratio'] = pga_winners['sg_putt'] / pga_winners['sg_total']\n",
    "pga_winners"
   ]
  },
  {
   "cell_type": "code",
   "execution_count": null,
   "metadata": {},
   "outputs": [],
   "source": [
    "# Group the new pga_winners DataFrame by course.\n",
    "pga_winners_course = pga_winners.groupby('course')\n",
    "\n",
    "# Create a new DataFrame that includes the average 'sg_putt_ratio' of all the winner on each course.\n",
    "average_winning_sg_putt_ratios = pga_winners_course['sg_putt_ratio'].mean().reset_index()\n",
    "average_winning_sg_putt_ratios"
   ]
  },
  {
   "cell_type": "code",
   "execution_count": null,
   "metadata": {
    "scrolled": true
   },
   "outputs": [],
   "source": [
    "# Create a sorted horizontal bar chart of the “Average Strokes Gained - Putting of All Winning Players by Course”.\n",
    "fig, ax = plt.subplots(figsize = (14,14))\n",
    "\n",
    "average_winning_sg_putt_ratios_sorted = average_winning_sg_putt_ratios.sort_values(by = 'sg_putt_ratio')\n",
    "\n",
    "ax.barh(average_winning_sg_putt_ratios_sorted['course'], average_winning_sg_putt_ratios_sorted['sg_putt_ratio'], align = 'center')\n",
    "\n",
    "ax.set(xlabel = \"Average Strokes Gained Putting Ratio of All Winners\",\n",
    "      ylabel = \"Courses\",\n",
    "      title = \"Average Strokes Gained Putting Ratio of All Winning Players by Course\")"
   ]
  },
  {
   "cell_type": "markdown",
   "metadata": {},
   "source": [
    "<font color = 'green'><u>**Key Takeaways:**</u></font>\n",
    "\n",
    "In the 2015 to 2022 PGA Tour seasons, the courses where being “hot with the putter” has been most important have been:\n",
    "\n",
    "1. Caves Valley Golf Club\n",
    "2. Aronimink Golf Club\n",
    "3. Shadow Creek GC\n",
    "4. La Quinta CC\n",
    "5. TPC Harding Park\n",
    "6. Memorial Park GC\n",
    "7. Old White Course\n",
    "8. Waialae CC\n",
    "9. Trinity Forest Golf Club\n",
    "10. TPC Four Seasons Resort Golf Club"
   ]
  },
  {
   "cell_type": "markdown",
   "metadata": {},
   "source": [
    "Extra Testing"
   ]
  },
  {
   "cell_type": "code",
   "execution_count": null,
   "metadata": {},
   "outputs": [],
   "source": [
    "positive_sg_putt_ratios = pga_winners[pga_winners['sg_putt_ratio'] >= 0]\n",
    "\n",
    "fig = px.scatter(positive_sg_putt_ratios, x='sg_putt', y='sg_total', color='course',\n",
    "                 size='sg_putt_ratio',\n",
    "                 title='Strokes Gained Putting Ratio',\n",
    "                 color_discrete_sequence=px.colors.qualitative.Bold)\n",
    "\n",
    "fig.show()"
   ]
  }
 ],
 "metadata": {
  "kernelspec": {
   "display_name": "Python 3 (ipykernel)",
   "language": "python",
   "name": "python3"
  },
  "language_info": {
   "codemirror_mode": {
    "name": "ipython",
    "version": 3
   },
   "file_extension": ".py",
   "mimetype": "text/x-python",
   "name": "python",
   "nbconvert_exporter": "python",
   "pygments_lexer": "ipython3",
   "version": "3.12.0"
  }
 },
 "nbformat": 4,
 "nbformat_minor": 1
}
