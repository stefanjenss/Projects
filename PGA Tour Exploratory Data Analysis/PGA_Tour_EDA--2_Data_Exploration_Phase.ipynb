{
 "cells": [
  {
   "cell_type": "markdown",
   "metadata": {},
   "source": [
    "# Phase 2. Exploration of PGA Tour Cleaned Data"
   ]
  },
  {
   "cell_type": "markdown",
   "metadata": {},
   "source": [
    "## 1. Univariate Analysis\n",
    "\n",
    "### Exploration of Categorical Variables:\n",
    "1. **`.value_counts()` method**: Calculate the count and proprtion of each category to understand their relative frequencies\n",
    "2. **Bar Charts**: Use bar charts to see the frequency or counts of each category to help understand the distribution of prevalence of each category.\n",
    "\n",
    "<u>Categorical Variables to Explore:</u>\n",
    "- `Player_initial_last` &rarr; Intial of player's first name and their full last name *[string]*\n",
    "- `player` &rarr; The player's full name \n",
    "- `player id` &rarr; A unique ID assigned to each individual player\n",
    "- `tournament name` &rarr; The name of the tournament\n",
    "- `tournament id` &rarr; A unique ID assigned to each individual tournament\n",
    "- `course`"
   ]
  },
  {
   "cell_type": "code",
   "execution_count": 2,
   "metadata": {},
   "outputs": [
    {
     "data": {
      "text/plain": [
       "'\\nImport the necessary libraries and the datsets for exploration of the data\\n'"
      ]
     },
     "execution_count": 2,
     "metadata": {},
     "output_type": "execute_result"
    }
   ],
   "source": [
    "\"\"\"\n",
    "Import the necessary libraries and the datsets for exploration of the data\n",
    "\"\"\"\n",
    "\n",
    "# Import the necessary libraries\n",
    "from IPython.core.interactiveshell import InteractiveShell\n",
    "InteractiveShell.ast_node_interactivity = \"all\"\n",
    "\n",
    "import pandas as pd\n",
    "import numpy as np\n",
    "\n",
    "import seaborn as sns\n",
    "import matplotlib.pyplot as plt\n",
    "import plotly.express as px\n",
    "\n",
    "%matplotlib inline\n",
    "\n",
    "# Import the cleaned datasets\n",
    "pga_clean = pd.read_csv('Data_Files/pga_clean.csv')\n",
    "sg_data = pd.read_csv('Data_Files/sg_data_clean.csv')\n"
   ]
  }
 ],
 "metadata": {
  "kernelspec": {
   "display_name": "portfolio",
   "language": "python",
   "name": "python3"
  },
  "language_info": {
   "codemirror_mode": {
    "name": "ipython",
    "version": 3
   },
   "file_extension": ".py",
   "mimetype": "text/x-python",
   "name": "python",
   "nbconvert_exporter": "python",
   "pygments_lexer": "ipython3",
   "version": "3.12.0"
  }
 },
 "nbformat": 4,
 "nbformat_minor": 2
}
