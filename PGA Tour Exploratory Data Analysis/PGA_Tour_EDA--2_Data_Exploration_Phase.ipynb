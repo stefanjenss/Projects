{
 "cells": [
  {
   "cell_type": "markdown",
   "metadata": {},
   "source": [
    "# Phase 2. Exploration of PGA Tour Cleaned Data"
   ]
  },
  {
   "cell_type": "markdown",
   "metadata": {},
   "source": [
    "## 1. Univariate Analysis\n",
    "\n",
    "### Exploration of Categorical Variables:\n",
    "1. **`.value_counts()` method**: Calculate the count and proprtion of each category to understand their relative frequencies\n",
    "2. **Bar Charts**: Use bar charts to see the frequency or counts of each category to help understand the distribution of prevalence of each category.\n",
    "\n",
    "<u>Categorical Variables to Explore:</u>\n",
    "- `Player_initial_last` &rarr; Intial of player's first name and their full last name *[string]*\n",
    "- `player` &rarr; The player's full name \n",
    "- `player id` &rarr; A unique ID assigned to each individual player\n",
    "- `tournament name` &rarr; The name of the tournament\n",
    "- `tournament id` &rarr; A unique ID assigned to each individual tournament\n",
    "- `course`"
   ]
  },
  {
   "cell_type": "code",
   "execution_count": 2,
   "metadata": {},
   "outputs": [
    {
     "data": {
      "text/plain": [
       "'\\nImport the necessary libraries and the datsets for exploration of the data\\n'"
      ]
     },
     "execution_count": 2,
     "metadata": {},
     "output_type": "execute_result"
    }
   ],
   "source": [
    "\"\"\"\n",
    "Import the necessary libraries and the datsets for exploration of the data\n",
    "\"\"\"\n",
    "\n",
    "# Import the necessary libraries\n",
    "from IPython.core.interactiveshell import InteractiveShell\n",
    "InteractiveShell.ast_node_interactivity = \"all\"\n",
    "\n",
    "import pandas as pd\n",
    "import numpy as np\n",
    "\n",
    "import seaborn as sns\n",
    "import matplotlib.pyplot as plt\n",
    "import plotly.express as px\n",
    "\n",
    "%matplotlib inline\n",
    "\n",
    "# Import the cleaned datasets\n",
    "pga_clean = pd.read_csv('Data_Files/pga_clean.csv')\n",
    "sg_data = pd.read_csv('Data_Files/sg_data_clean.csv')\n"
   ]
  },
  {
   "cell_type": "markdown",
   "metadata": {},
   "source": [
    "----\n",
    "\n",
    "## Inspection of Individual Variables"
   ]
  },
  {
   "cell_type": "markdown",
   "metadata": {},
   "source": [
    "**Inspection of `player id` field**"
   ]
  },
  {
   "cell_type": "code",
   "execution_count": null,
   "metadata": {},
   "outputs": [],
   "source": [
    "pga_cleaning['player id'].value_counts()"
   ]
  },
  {
   "cell_type": "markdown",
   "metadata": {},
   "source": [
    "**Inspection of `season` field**"
   ]
  },
  {
   "cell_type": "code",
   "execution_count": null,
   "metadata": {},
   "outputs": [],
   "source": [
    "pga_cleaning['season'].value_counts()"
   ]
  },
  {
   "cell_type": "markdown",
   "metadata": {},
   "source": [
    "### Inspection of Tournament-Specific Variables"
   ]
  },
  {
   "cell_type": "markdown",
   "metadata": {},
   "source": [
    "**Inspection of `tournament name` field**"
   ]
  },
  {
   "cell_type": "code",
   "execution_count": null,
   "metadata": {},
   "outputs": [],
   "source": [
    "pga_cleaning['tournament name'].value_counts()"
   ]
  },
  {
   "cell_type": "markdown",
   "metadata": {},
   "source": [
    "**Inspection of `tournament id` field**"
   ]
  },
  {
   "cell_type": "code",
   "execution_count": null,
   "metadata": {},
   "outputs": [],
   "source": [
    "pga_cleaning['tournament id'].value_counts()"
   ]
  },
  {
   "cell_type": "markdown",
   "metadata": {},
   "source": [
    "**Inspection of the `course` field**"
   ]
  },
  {
   "cell_type": "code",
   "execution_count": null,
   "metadata": {},
   "outputs": [],
   "source": [
    "pga_cleaning['course'].value_counts()"
   ]
  },
  {
   "cell_type": "markdown",
   "metadata": {},
   "source": [
    "**Inspection of the `date` field**"
   ]
  },
  {
   "cell_type": "code",
   "execution_count": null,
   "metadata": {},
   "outputs": [],
   "source": [
    "pga_cleaning['date'].value_counts()"
   ]
  },
  {
   "cell_type": "markdown",
   "metadata": {},
   "source": [
    "**Inspection of the `purse` field**"
   ]
  },
  {
   "cell_type": "code",
   "execution_count": null,
   "metadata": {},
   "outputs": [],
   "source": [
    "pga_cleaning['purse'].value_counts()\n",
    "pga_cleaning['purse'].describe()"
   ]
  },
  {
   "cell_type": "markdown",
   "metadata": {},
   "source": [
    "**Inspection of the `hole_par` field**"
   ]
  },
  {
   "cell_type": "code",
   "execution_count": null,
   "metadata": {},
   "outputs": [],
   "source": [
    "pga_cleaning['hole_par'].value_counts()"
   ]
  },
  {
   "cell_type": "markdown",
   "metadata": {},
   "source": [
    "**Inspection of the `no_cut` field**"
   ]
  },
  {
   "cell_type": "code",
   "execution_count": null,
   "metadata": {},
   "outputs": [],
   "source": [
    "pga_cleaning['no_cut'].value_counts()"
   ]
  },
  {
   "cell_type": "markdown",
   "metadata": {},
   "source": [
    "### Inspection of Player Performance Variables"
   ]
  },
  {
   "cell_type": "markdown",
   "metadata": {},
   "source": [
    "**Inspection of the `n_rounds` field**"
   ]
  },
  {
   "cell_type": "code",
   "execution_count": null,
   "metadata": {},
   "outputs": [],
   "source": [
    "pga_cleaning['n_rounds'].value_counts()"
   ]
  },
  {
   "cell_type": "markdown",
   "metadata": {},
   "source": [
    "**Throughout the entire dataset:**\n",
    "- There were 317 players who only completed 1 round of a tournament.\n",
    "    - This would be due to either player disqualification or player withdrawal from the tournament.\n",
    "- There were 1030 players who only completed 3 rounds.\n",
    "    - This would also either be due to disqualification or withdrawal from the tournament.\n",
    "- There were 14211 players who only completed 2 rounds of a tournament.\n",
    "    - This would be due to players not making the cut.\n",
    "- There were 21306 players who completed the entire tournament (4 rounds).\n",
    "    - These players made the weekend cut and did not withdrawal from the tournament. There are the players that will have a finishing position.\n",
    "\n",
    "*For some of the analysis, I anticipate that I will not want to exclude players that only completed 1 or 3 rounds, because there players likely withdrew from the tournament.*"
   ]
  },
  {
   "cell_type": "markdown",
   "metadata": {},
   "source": [
    "**Inspection of the `made_cut` field**"
   ]
  },
  {
   "cell_type": "code",
   "execution_count": null,
   "metadata": {},
   "outputs": [],
   "source": [
    "pga_cleaning['made_cut'].value_counts()"
   ]
  },
  {
   "cell_type": "markdown",
   "metadata": {},
   "source": [
    "These numbers are inline with the numbers above from the 'n_rounds' variable."
   ]
  },
  {
   "cell_type": "markdown",
   "metadata": {},
   "source": [
    "**Inspection of the `strokes` field**"
   ]
  },
  {
   "cell_type": "code",
   "execution_count": null,
   "metadata": {},
   "outputs": [],
   "source": [
    "pga_cleaning['strokes'].value_counts()"
   ]
  },
  {
   "cell_type": "markdown",
   "metadata": {},
   "source": [
    "**Inspection of the `Finish` field**"
   ]
  },
  {
   "cell_type": "code",
   "execution_count": null,
   "metadata": {},
   "outputs": [],
   "source": [
    "pga_cleaning['Finish'].value_counts()"
   ]
  },
  {
   "cell_type": "markdown",
   "metadata": {},
   "source": [
    "**Inspection of the `pos` field**"
   ]
  },
  {
   "cell_type": "code",
   "execution_count": null,
   "metadata": {},
   "outputs": [],
   "source": [
    "pga_cleaning['pos'].value_counts()"
   ]
  },
  {
   "cell_type": "markdown",
   "metadata": {},
   "source": [
    "### Inspection of the Strokes Gained Variables"
   ]
  },
  {
   "cell_type": "markdown",
   "metadata": {},
   "source": [
    "To inspect these variables, I will use the pga_sg dataframe, because this is the dataframe that I will be conduction strokes gained analysis on."
   ]
  },
  {
   "cell_type": "markdown",
   "metadata": {},
   "source": [
    "**Inspection of the `sg_putt` field**"
   ]
  },
  {
   "cell_type": "code",
   "execution_count": null,
   "metadata": {},
   "outputs": [],
   "source": [
    "sg_data_clean['sg_putt'].value_counts()\n",
    "sg_data_clean['sg_putt'].describe()"
   ]
  },
  {
   "cell_type": "markdown",
   "metadata": {},
   "source": [
    "**Inspection of the `sg_arg` field**"
   ]
  },
  {
   "cell_type": "code",
   "execution_count": null,
   "metadata": {},
   "outputs": [],
   "source": [
    "sg_data_clean['sg_arg'].value_counts()\n",
    "sg_data_clean['sg_arg'].describe()"
   ]
  },
  {
   "cell_type": "markdown",
   "metadata": {},
   "source": [
    "**Inspection of the `sg_app` field**"
   ]
  },
  {
   "cell_type": "code",
   "execution_count": null,
   "metadata": {},
   "outputs": [],
   "source": [
    "sg_data_clean['sg_app'].value_counts()\n",
    "sg_data_clean['sg_app'].describe()"
   ]
  },
  {
   "cell_type": "markdown",
   "metadata": {},
   "source": [
    "**Inspection of the `sg_ott` field**"
   ]
  },
  {
   "cell_type": "code",
   "execution_count": null,
   "metadata": {},
   "outputs": [],
   "source": [
    "sg_data_clean['sg_ott'].value_counts()\n",
    "sg_data_clean['sg_ott'].describe()"
   ]
  },
  {
   "cell_type": "markdown",
   "metadata": {},
   "source": [
    "**Inspection of the `sg_t2g` field**"
   ]
  },
  {
   "cell_type": "code",
   "execution_count": null,
   "metadata": {},
   "outputs": [],
   "source": [
    "sg_data_clean['sg_t2g'].value_counts()\n",
    "sg_data_clean['sg_t2g'].describe()"
   ]
  },
  {
   "cell_type": "markdown",
   "metadata": {},
   "source": [
    "**Inspection of the `sg_total` field**"
   ]
  },
  {
   "cell_type": "code",
   "execution_count": null,
   "metadata": {},
   "outputs": [],
   "source": [
    "sg_data_clean['sg_total'].value_counts()\n",
    "sg_data_clean['sg_total'].describe()"
   ]
  },
  {
   "cell_type": "markdown",
   "metadata": {},
   "source": [
    "### Investigation of Outliers Among Strokes Gained Variables"
   ]
  },
  {
   "cell_type": "code",
   "execution_count": null,
   "metadata": {},
   "outputs": [],
   "source": [
    "# Boxingplots of the desires variables I want to observe further.\n",
    "# sg_variables = ['sg_putt','sg_arg','sg_app','sg_ott','sg_t2g','sg_total']\n",
    "\n",
    "pga_tour_data.boxplot(column = ['sg_putt','sg_arg','sg_app','sg_ott','sg_t2g','sg_total'])"
   ]
  },
  {
   "cell_type": "markdown",
   "metadata": {},
   "source": [
    "<font color = 'green'><u>**Takeaway:**</u></font>\n",
    "\n",
    "Although there are several outliers in the strokes gained variables, these data points represent actual performances of players in a tournament. Whether they were exceptionally good or bad, this information is valuable and should not be excluded from the dataframe during analysis.\n",
    "\n",
    "----"
   ]
  }
 ],
 "metadata": {
  "kernelspec": {
   "display_name": "portfolio",
   "language": "python",
   "name": "python3"
  },
  "language_info": {
   "codemirror_mode": {
    "name": "ipython",
    "version": 3
   },
   "file_extension": ".py",
   "mimetype": "text/x-python",
   "name": "python",
   "nbconvert_exporter": "python",
   "pygments_lexer": "ipython3",
   "version": "3.12.0"
  }
 },
 "nbformat": 4,
 "nbformat_minor": 2
}
